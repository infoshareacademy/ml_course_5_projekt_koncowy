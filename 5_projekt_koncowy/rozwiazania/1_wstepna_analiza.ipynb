{
 "cells": [
  {
   "cell_type": "markdown",
   "metadata": {},
   "source": [
    "# Omówienie zbioru danych - EDA\n",
    "\n",
    "Dane zawierają informacje na temat wypożyczeń rowerów\n",
    "\n",
    "Źródło: https://www.kaggle.com/datasets/geometrein/helsinki-city-bikes\n",
    "\n",
    "Ogólny cel projektu:\n",
    "1. Zrozumienie danych i analizę różnych aspektów takich jak, charakterystyka stacji czy klientów.\n",
    "2. Obróbka danych - jest ich bardzo dużo i należy je odpowiednio przygotować.\n",
    "3. Model prognozy przyszłorocznej liczby wypożyczeń.\n",
    "4. Prognoza wypożyczeń na kolejny dzień.\n",
    "5. System do alertów (progonozowanie czy wypożyczeń będzie więcej niż zwrotów) w celu szybszej reakcji.\n",
    "\n",
    "\n",
    "Cele EDA:\n",
    "Dane te pozwalają na analizę wielu aspektów. \n",
    "Lista zadań do realizacji:\n",
    "1. Pobranie danych i podstawowe statystyki (head, info)\n",
    "2. Konwersja dat. (z formatu object na datetime)\n",
    "3. Agregacja danych:\n",
    "    - Przygotowanie funkcji do agregacji\n",
    "    - Stworzenie i zapisanie ramki danych z sumą wypożyczeń, średnim dystansem, prędkością i pogodą dla każdego dnia.\n",
    "    - Stworzenie i zapisanie ramki danych z sumą wypożyczeń, średnim dystansem, prędkością i pogodą dla każdego dnia (z dokładnością do godziny) i stacji. (dla stacji departure i osobno dla stacji return)\n",
    "    - Zapisanie zagregowanych danych.\n",
    "4. Mapa stacji\n",
    "    - Stworzenie wykresu położenia stacji. (w zbiorze mamy współrzędne geograficzne).\n",
    "5. Analiza stacji:\n",
    "    - minimalne i maksymalne daty wypożyczeń dla stacji\n",
    "    - liczba wypożyczeń (Najpopularniejsze stacje)\n",
    "6. Analiza użytkowników:\n",
    "- Jaki jest rozkład:\n",
    "    - pokonywanej odległości\n",
    "    - czasu\n",
    "    - prędkości\n",
    "- Czy zmienia się po latach?\n",
    "7. Funkcja do oceny czy w pobliżu jest stacja\n",
    "- Funkcja, która dla wybranej stacji, sprawdzi w jakiej odległości znajduje się najbliższa stacja\n",
    "- Pozwoli dokonać ostatecznej oceny, czy stacje z małą liczbą wypożyczeń można usunąć.\n"
   ]
  },
  {
   "cell_type": "code",
   "execution_count": null,
   "metadata": {},
   "outputs": [],
   "source": [
    "#pip install kagglehub -U"
   ]
  },
  {
   "cell_type": "markdown",
   "metadata": {},
   "source": [
    "1. Pobranie danych i podstawowe statystyki (head, info)"
   ]
  },
  {
   "cell_type": "code",
   "execution_count": null,
   "metadata": {},
   "outputs": [],
   "source": [
    "# Biblioteka kagglehub\n",
    "import kagglehub\n"
   ]
  },
  {
   "cell_type": "code",
   "execution_count": null,
   "metadata": {},
   "outputs": [],
   "source": [
    "path = kagglehub.dataset_download(\"geometrein/helsinki-city-bikes\")\n",
    "\n",
    "print(\"Path to dataset files:\", path)"
   ]
  },
  {
   "cell_type": "code",
   "execution_count": null,
   "metadata": {},
   "outputs": [],
   "source": [
    "import pandas as pd\n",
    "import numpy as np\n",
    "import matplotlib.pyplot as plt\n",
    "import os\n",
    "import seaborn as sns"
   ]
  },
  {
   "cell_type": "code",
   "execution_count": null,
   "metadata": {},
   "outputs": [],
   "source": [
    "# ladowanie parquet\n",
    "#df = pd.read_parquet('data/source_file.parquet')"
   ]
  },
  {
   "cell_type": "code",
   "execution_count": null,
   "metadata": {},
   "outputs": [],
   "source": [
    "# puść ten kod, \n",
    "# jeżeli wywołujesz plik  w folderze rozwiąznaia, \n",
    "# a ramka danych znajduje się w folderze data\n",
    "import os \n",
    "os.chdir('../')"
   ]
  },
  {
   "cell_type": "code",
   "execution_count": null,
   "metadata": {},
   "outputs": [],
   "source": [
    "# Ładowanie danych\n",
    "df = pd.read_csv(path + r'\\database.csv', dtype={'departure_id':'object',\n",
    "                                                 'return_id': 'object'})"
   ]
  },
  {
   "cell_type": "code",
   "execution_count": null,
   "metadata": {},
   "outputs": [],
   "source": [
    "# info\n",
    "df.info()"
   ]
  },
  {
   "cell_type": "code",
   "execution_count": null,
   "metadata": {},
   "outputs": [],
   "source": [
    "# head\n",
    "df.head()"
   ]
  },
  {
   "cell_type": "markdown",
   "metadata": {},
   "source": [
    "2. Konwersja dat. (z formatu object na datetime)"
   ]
  },
  {
   "cell_type": "code",
   "execution_count": null,
   "metadata": {},
   "outputs": [],
   "source": [
    "# Konwersja dat departure\n",
    "df['departure'] = pd.to_datetime(df['departure'])\n",
    "df['departure_date'] = df['departure'].dt.round('D')\n",
    "df['departure_date_hours'] = df['departure'].dt.round('h')"
   ]
  },
  {
   "cell_type": "code",
   "execution_count": null,
   "metadata": {},
   "outputs": [],
   "source": [
    "# Konwersja dat returns\n",
    "df['return'] = pd.to_datetime(df['return'])\n",
    "df['return_date'] = df['return'].dt.round('D')\n",
    "df['return_date_hours'] = df['return'].dt.round('h')"
   ]
  },
  {
   "cell_type": "code",
   "execution_count": null,
   "metadata": {},
   "outputs": [],
   "source": [
    "# Zapis pliku do parquet\n",
    "df.to_parquet('data/source_file.parquet')"
   ]
  },
  {
   "cell_type": "markdown",
   "metadata": {},
   "source": [
    "3. Agregacja danych:\n",
    "    - Przygotowanie funkcji do agregacji\n",
    "    - Stworzenie i zapisanie ramki danych z sumą wypożyczeń, średnim dystansem, prędkością i pogodą dla każdego dnia.\n",
    "    - Stworzenie i zapisanie ramki danych z sumą wypożyczeń, średnim dystansem, prędkością i pogodą dla każdego dnia i stacji. (dla stacji departure i osobno dla stacji return)\n",
    "    - Zapisanie zagregowanych danych."
   ]
  },
  {
   "cell_type": "code",
   "execution_count": null,
   "metadata": {},
   "outputs": [],
   "source": [
    "from help_function import agg_data"
   ]
  },
  {
   "cell_type": "code",
   "execution_count": null,
   "metadata": {},
   "outputs": [],
   "source": [
    "## ogólny szereg czasowy - liczba wypożyczeń dziennie\n",
    "\n",
    "df_total_agg  =agg_data(df,['departure_date'],\n",
    "                        {'departure_name': 'count',\n",
    "                         'distance (m)': 'mean',\n",
    "                         'duration (sec.)': 'mean',\n",
    "                         'avg_speed (km/h)': 'mean',\n",
    "                         'Air temperature (degC)': 'mean'})"
   ]
  },
  {
   "cell_type": "code",
   "execution_count": null,
   "metadata": {},
   "outputs": [],
   "source": [
    "df_total_agg"
   ]
  },
  {
   "cell_type": "code",
   "execution_count": null,
   "metadata": {},
   "outputs": [],
   "source": [
    "# zmiana nazw\n",
    "df_total_agg = df_total_agg.rename(columns = {'departure_name': 'numbers_of_renting'})"
   ]
  },
  {
   "cell_type": "code",
   "execution_count": null,
   "metadata": {},
   "outputs": [],
   "source": [
    "df_total_agg.to_parquet('data/total_agg.parquet')"
   ]
  },
  {
   "cell_type": "code",
   "execution_count": null,
   "metadata": {},
   "outputs": [],
   "source": [
    "# head\n",
    "df_total_agg.head()"
   ]
  },
  {
   "cell_type": "code",
   "execution_count": null,
   "metadata": {},
   "outputs": [],
   "source": []
  },
  {
   "cell_type": "code",
   "execution_count": null,
   "metadata": {},
   "outputs": [],
   "source": [
    "df.departure_id.unique()"
   ]
  },
  {
   "cell_type": "code",
   "execution_count": null,
   "metadata": {},
   "outputs": [],
   "source": [
    "df.departure_id.nunique()"
   ]
  },
  {
   "cell_type": "code",
   "execution_count": null,
   "metadata": {},
   "outputs": [],
   "source": [
    "df.departure_name.nunique()"
   ]
  },
  {
   "cell_type": "code",
   "execution_count": null,
   "metadata": {},
   "outputs": [],
   "source": [
    "## aggregate data - departures\n",
    "df_agg_dep = agg_data(df, ['departure_name', 'departure_date_hours'],\n",
    "                      {'departure_id': 'count',\n",
    "                         'distance (m)': 'mean',\n",
    "                         'duration (sec.)': 'mean',\n",
    "                         'avg_speed (km/h)': 'mean',\n",
    "                         'Air temperature (degC)': 'mean'})"
   ]
  },
  {
   "cell_type": "code",
   "execution_count": null,
   "metadata": {},
   "outputs": [],
   "source": [
    "# zmiana nazw\n",
    "df_agg_dep = df_agg_dep.rename(columns = {'departure_id': 'numbers_of_departures'})"
   ]
  },
  {
   "cell_type": "code",
   "execution_count": null,
   "metadata": {},
   "outputs": [],
   "source": [
    "# head\n",
    "df_agg_dep"
   ]
  },
  {
   "cell_type": "code",
   "execution_count": null,
   "metadata": {},
   "outputs": [],
   "source": [
    "# zapis do parquet\n",
    "df_agg_dep.to_parquet('data/hourly_data_per_station.parquet')\n"
   ]
  },
  {
   "cell_type": "code",
   "execution_count": null,
   "metadata": {},
   "outputs": [],
   "source": [
    "# aggregate data - returns\n",
    "df_agg_ret = agg_data(df, ['return_name', 'return_date_hours'],\n",
    "                      {'return_id': 'count',\n",
    "                         'distance (m)': 'mean',\n",
    "                         'duration (sec.)': 'mean',\n",
    "                         'avg_speed (km/h)': 'mean',\n",
    "                         'Air temperature (degC)': 'mean'})"
   ]
  },
  {
   "cell_type": "code",
   "execution_count": null,
   "metadata": {},
   "outputs": [],
   "source": [
    "# zmiana nazw\n",
    "df_agg_ret  = df_agg_ret.rename(columns = {'return_id': 'number_of_returns'})"
   ]
  },
  {
   "cell_type": "code",
   "execution_count": null,
   "metadata": {},
   "outputs": [],
   "source": [
    "# head\n",
    "df_agg_ret.head()"
   ]
  },
  {
   "cell_type": "code",
   "execution_count": null,
   "metadata": {},
   "outputs": [],
   "source": [
    "# zapis do parquet\n",
    "df_agg_ret.to_parquet('data/hourly_data_per_station_returns')"
   ]
  },
  {
   "cell_type": "code",
   "execution_count": null,
   "metadata": {},
   "outputs": [],
   "source": [
    "plt.figure(figsize=[12,8])\n",
    "plt.plot(df_total_agg['departure_date'],df_total_agg['numbers_of_renting'])\n",
    "plt.title('Dzienna liczba wypożyczeń')\n",
    "plt.show()"
   ]
  },
  {
   "cell_type": "markdown",
   "metadata": {},
   "source": [
    "4. Mapa stacji\n",
    "    - Stworzenie wykresu położenia stacji. (w zbiorze mamy współrzędne geograficzne)."
   ]
  },
  {
   "cell_type": "code",
   "execution_count": null,
   "metadata": {},
   "outputs": [],
   "source": [
    "#pip install folium"
   ]
  },
  {
   "cell_type": "code",
   "execution_count": null,
   "metadata": {},
   "outputs": [],
   "source": [
    "import folium"
   ]
  },
  {
   "cell_type": "code",
   "execution_count": null,
   "metadata": {},
   "outputs": [],
   "source": [
    "import pandas as pd"
   ]
  },
  {
   "cell_type": "code",
   "execution_count": null,
   "metadata": {},
   "outputs": [],
   "source": [
    "df = pd.read_parquet('data/source_file.parquet')"
   ]
  },
  {
   "cell_type": "code",
   "execution_count": null,
   "metadata": {},
   "outputs": [],
   "source": [
    "# przygotowanie danych do mapy\n",
    "df_map = df.loc[df['departure']>='2020-01-01',['departure_name','departure_longitude', 'departure_latitude', 'departure_id']].groupby('departure_name').agg({\n",
    "    'departure_latitude':'mean',\n",
    "    'departure_longitude': 'mean',\n",
    "    'departure_id': 'count'\n",
    "})"
   ]
  },
  {
   "cell_type": "code",
   "execution_count": null,
   "metadata": {},
   "outputs": [],
   "source": [
    "df_map.head()"
   ]
  },
  {
   "cell_type": "code",
   "execution_count": null,
   "metadata": {},
   "outputs": [],
   "source": [
    "df_map = df_map.reset_index().rename(columns = {'departure_id':'amount'})"
   ]
  },
  {
   "cell_type": "code",
   "execution_count": null,
   "metadata": {},
   "outputs": [],
   "source": [
    "# definicja mapy\n",
    "the_map = folium.Map(location = [df_map.departure_latitude.mean(),df_map.departure_longitude.mean()], zoom_start=10)"
   ]
  },
  {
   "cell_type": "code",
   "execution_count": null,
   "metadata": {},
   "outputs": [],
   "source": [
    "# naniesienie informacji z punktów\n",
    "for i in range(len(df_map)):\n",
    "    lat = df_map.loc[i,'departure_latitude']\n",
    "    lon = df_map.loc[i,'departure_longitude']\n",
    "    amount = df_map.loc[i,'amount']\n",
    "    name = df_map.loc[i,'departure_name']\n",
    "    folium.Marker(location=[lat,lon], popup=f\"Nazwa: {name} \\n wypozyczenia: {amount}\").add_to(the_map)"
   ]
  },
  {
   "cell_type": "code",
   "execution_count": null,
   "metadata": {},
   "outputs": [],
   "source": [
    "# print mapy\n",
    "the_map"
   ]
  },
  {
   "cell_type": "code",
   "execution_count": null,
   "metadata": {},
   "outputs": [],
   "source": [
    "# Mapa inaczej\n",
    "the_map_2 = folium.Map(location=[df_map.departure_latitude.mean(),df_map.departure_longitude.mean()], zoom_start=15)"
   ]
  },
  {
   "cell_type": "code",
   "execution_count": null,
   "metadata": {},
   "outputs": [],
   "source": [
    "# naniesienie informacji z punktów\n",
    "for i in range(len(df_map)):\n",
    "    lat = df_map.loc[i,'departure_latitude']\n",
    "    lon = df_map.loc[i,'departure_longitude']\n",
    "    amount = df_map.loc[i,'amount']\n",
    "    name= df_map.loc[i,'departure_name']\n",
    "    folium.CircleMarker(\n",
    "        location=[lat, lon],\n",
    "        radius=amount / 1000,  # Skala wielkości\n",
    "        color='blue',\n",
    "        fill=True,\n",
    "        fill_color='blue',\n",
    "        fill_opacity=0.6,\n",
    "        popup=f\"Liczba wypożyczeń: {amount}\\n stacja: {name}\"\n",
    "    ).add_to(the_map_2)\n"
   ]
  },
  {
   "cell_type": "code",
   "execution_count": null,
   "metadata": {},
   "outputs": [],
   "source": [
    "# print mapy\n",
    "the_map_2"
   ]
  },
  {
   "cell_type": "code",
   "execution_count": null,
   "metadata": {},
   "outputs": [],
   "source": [
    "# zapisywanie mapy\n",
    "the_map_2.save('data/map.html')"
   ]
  },
  {
   "cell_type": "markdown",
   "metadata": {},
   "source": [
    "5. Analiza stacji:\n",
    "    - minimalne i maksymalne daty wypożyczeń dla stacji\n",
    "    - liczba wypożyczeń (Najpopularniejsze stacje)"
   ]
  },
  {
   "cell_type": "code",
   "execution_count": null,
   "metadata": {},
   "outputs": [],
   "source": [
    "import pandas as pd"
   ]
  },
  {
   "cell_type": "code",
   "execution_count": null,
   "metadata": {},
   "outputs": [],
   "source": [
    "df = pd.read_parquet('data/source_file.parquet')"
   ]
  },
  {
   "cell_type": "code",
   "execution_count": null,
   "metadata": {},
   "outputs": [],
   "source": [
    "df.info()"
   ]
  },
  {
   "cell_type": "code",
   "execution_count": null,
   "metadata": {},
   "outputs": [],
   "source": [
    "# minimalna data wypożyczenia ze stacji\n",
    "min_dates = df.loc[:,['departure_name','departure_date']].groupby('departure_name').min()"
   ]
  },
  {
   "cell_type": "code",
   "execution_count": null,
   "metadata": {},
   "outputs": [],
   "source": [
    "min_dates.describe()"
   ]
  },
  {
   "cell_type": "code",
   "execution_count": null,
   "metadata": {},
   "outputs": [],
   "source": [
    "max_dates = df.loc[:,['departure_name','departure_date']].groupby('departure_name').max()"
   ]
  },
  {
   "cell_type": "code",
   "execution_count": null,
   "metadata": {},
   "outputs": [],
   "source": [
    "max_dates.describe()"
   ]
  },
  {
   "cell_type": "code",
   "execution_count": null,
   "metadata": {},
   "outputs": [],
   "source": [
    "new_stations = min_dates[min_dates['departure_date']>='2020-01-01'].reset_index()\n",
    "new_stations"
   ]
  },
  {
   "cell_type": "code",
   "execution_count": null,
   "metadata": {},
   "outputs": [],
   "source": [
    "# przygotowanie danych do mapy\n",
    "df_map = df.loc[df['departure']>='2020-01-01',['departure_name','departure_longitude', 'departure_latitude', 'departure_id']].groupby('departure_name').agg({\n",
    "    'departure_latitude':'mean',\n",
    "    'departure_longitude': 'mean',\n",
    "    'departure_id': 'count'\n",
    "})"
   ]
  },
  {
   "cell_type": "code",
   "execution_count": null,
   "metadata": {},
   "outputs": [],
   "source": [
    "df_map = df_map.reset_index().rename(columns = {'departure_id':'amount'})"
   ]
  },
  {
   "cell_type": "code",
   "execution_count": null,
   "metadata": {},
   "outputs": [],
   "source": [
    "df_map.describe()"
   ]
  },
  {
   "cell_type": "code",
   "execution_count": null,
   "metadata": {},
   "outputs": [],
   "source": [
    "potential_reduction = df_map[(df_map['amount']<=df_map.amount.quantile(0.25)) & ~(df_map['departure_name'].isin(new_stations['departure_name']))]\n",
    "potential_reduction"
   ]
  },
  {
   "cell_type": "markdown",
   "metadata": {},
   "source": [
    "6. Analiza użytkowników\n",
    "- Jaki jest rozkład:\n",
    "    - pokonywanej odległości\n",
    "    - czasu\n",
    "    - prędkości\n",
    "- Czy zmienia się po latach?"
   ]
  },
  {
   "cell_type": "code",
   "execution_count": null,
   "metadata": {},
   "outputs": [],
   "source": []
  },
  {
   "cell_type": "code",
   "execution_count": null,
   "metadata": {},
   "outputs": [],
   "source": [
    "# Wykresy gęstości\n",
    "sns.kdeplot(df,x='distance (m)')\n",
    "plt.show()"
   ]
  },
  {
   "cell_type": "code",
   "execution_count": null,
   "metadata": {},
   "outputs": [],
   "source": [
    "df.columns"
   ]
  },
  {
   "cell_type": "code",
   "execution_count": null,
   "metadata": {},
   "outputs": [],
   "source": [
    "sns.kdeplot(df['duration (sec.)'] )\n",
    "plt.show()"
   ]
  },
  {
   "cell_type": "code",
   "execution_count": null,
   "metadata": {},
   "outputs": [],
   "source": [
    "sns.kdeplot(df['avg_speed (km/h)'])\n",
    "plt.show()"
   ]
  },
  {
   "cell_type": "code",
   "execution_count": null,
   "metadata": {},
   "outputs": [],
   "source": [
    "pd.options.display.float_format = '{:,.2f}'.format"
   ]
  },
  {
   "cell_type": "code",
   "execution_count": null,
   "metadata": {},
   "outputs": [],
   "source": [
    "# describe\n",
    "df[['distance (m)','duration (sec.)','avg_speed (km/h)']].describe()"
   ]
  },
  {
   "cell_type": "code",
   "execution_count": null,
   "metadata": {},
   "outputs": [],
   "source": [
    "sns.boxplot(df[['distance (m)','duration (sec.)','avg_speed (km/h)']])"
   ]
  },
  {
   "cell_type": "code",
   "execution_count": null,
   "metadata": {},
   "outputs": [],
   "source": [
    "df['year'] = df['departure_date'].dt.year"
   ]
  },
  {
   "cell_type": "code",
   "execution_count": null,
   "metadata": {},
   "outputs": [],
   "source": [
    "pd.set_option('display.max_columns',None)"
   ]
  },
  {
   "cell_type": "code",
   "execution_count": null,
   "metadata": {},
   "outputs": [],
   "source": [
    "df[['distance (m)','duration (sec.)','avg_speed (km/h)','year']].groupby('year').describe()"
   ]
  },
  {
   "cell_type": "markdown",
   "metadata": {},
   "source": [
    "7. Funkcja do oceny czy w pobliżu jest stacja"
   ]
  },
  {
   "cell_type": "code",
   "execution_count": null,
   "metadata": {},
   "outputs": [],
   "source": [
    "#pip install geopy"
   ]
  },
  {
   "cell_type": "code",
   "execution_count": null,
   "metadata": {},
   "outputs": [],
   "source": [
    "from geopy.distance import geodesic"
   ]
  },
  {
   "cell_type": "code",
   "execution_count": null,
   "metadata": {},
   "outputs": [],
   "source": [
    "potential_reduction.head()"
   ]
  },
  {
   "cell_type": "code",
   "execution_count": null,
   "metadata": {},
   "outputs": [],
   "source": []
  },
  {
   "cell_type": "code",
   "execution_count": null,
   "metadata": {},
   "outputs": [],
   "source": [
    "def calculate_min_distance(data_point, points_to_check):\n",
    "    distances = []\n",
    "    for i in range(len(points_to_check)):\n",
    "        point = points_to_check.iloc[i,:]\n",
    "        distance = geodesic(data_point, point).meters\n",
    "        if distance>0:\n",
    "            distances.append(distance)\n",
    "    return min(distances)"
   ]
  },
  {
   "cell_type": "code",
   "execution_count": null,
   "metadata": {},
   "outputs": [],
   "source": [
    "potential_reduction"
   ]
  },
  {
   "cell_type": "code",
   "execution_count": null,
   "metadata": {},
   "outputs": [],
   "source": [
    "station_to_check = potential_reduction.loc[potential_reduction['departure_name']=='Asentajanpuisto',['departure_latitude','departure_longitude']]\n",
    "station_to_check"
   ]
  },
  {
   "cell_type": "code",
   "execution_count": null,
   "metadata": {},
   "outputs": [],
   "source": [
    "potential_reduction = potential_reduction.reset_index(drop=True)"
   ]
  },
  {
   "cell_type": "code",
   "execution_count": null,
   "metadata": {},
   "outputs": [],
   "source": [
    "calculate_min_distance(station_to_check.values, df_map[['departure_latitude','departure_longitude']])"
   ]
  },
  {
   "cell_type": "code",
   "execution_count": null,
   "metadata": {},
   "outputs": [],
   "source": [
    "for i in range(len(potential_reduction)):\n",
    "    st_to_check = potential_reduction.loc[i,['departure_latitude','departure_longitude']].values\n",
    "    dist = calculate_min_distance(st_to_check,df_map[['departure_latitude','departure_longitude']])\n",
    "    potential_reduction.loc[i,'min_dist'] = dist"
   ]
  },
  {
   "cell_type": "code",
   "execution_count": null,
   "metadata": {},
   "outputs": [],
   "source": [
    "potential_reduction"
   ]
  }
 ],
 "metadata": {
  "kernelspec": {
   "display_name": "Python 3",
   "language": "python",
   "name": "python3"
  },
  "language_info": {
   "codemirror_mode": {
    "name": "ipython",
    "version": 3
   },
   "file_extension": ".py",
   "mimetype": "text/x-python",
   "name": "python",
   "nbconvert_exporter": "python",
   "pygments_lexer": "ipython3",
   "version": "3.12.5"
  }
 },
 "nbformat": 4,
 "nbformat_minor": 2
}
