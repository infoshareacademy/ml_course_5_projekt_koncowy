{
 "cells": [
  {
   "cell_type": "markdown",
   "metadata": {},
   "source": [
    "# Time series analysis\n",
    "\n",
    "Celem tej części projektu, jest stworzenie modelu szeregu czasowego dla całkowitej liczby wypożyczeń.\n",
    "\n",
    "Zadania:\n",
    "1. Przeprowadź wstępną analizę danych w tym:\n",
    "    - pobranie danych i podstawowe statystyki\n",
    "    - reasmpling na dane dzienne\n",
    "    - dekompozycję\n",
    "    - zagreguj dane do miesięcznych, dla modelu długookresowego.\n",
    "2. Stwórz model długookresowy:\n",
    "    - podziel dane na zbiór treningowy oraz testowy\n",
    "    - stwórz model miesięcznej predykcji wypożyczeń w kolejnym roku \n",
    "    - dokonaj predykcji na danych historycznych oraz 2021 rok (przedstaw graficznie wyniki)\n",
    "    - oceń jakość za pomocą dwóch, wybranych wskaźników dla modeli regresyjnych.\n",
    "3. Model krótkookresowy - predykcja na kolejny dzień:\n",
    "Drugi model będzie potrzebny, aby na koniec danego dnia mieć oszacowanie jak bardzo system będzie oblegany. Można dzięki temu zaplanować serwis stacji, rowerów, czy przemieścić rowery tak, aby najbardziej oblegane stacje miały dostatecznie dużo pojazdów.\n",
    "    - Dodaj do danych zmienne egzogeniczne (średnie wartości z poprzedniego dnia, temperatura z ostatnich 7 dni)\n",
    "    - podziel dane na zbiór treningowy oraz testowy\n",
    "    - Stwórz model dedykowany do szeregów czasowych ze zmiennymi egzogenicznymi.\n",
    "    - Oceń model.\n",
    "    - Porównaj model do podejścia machine learning."
   ]
  },
  {
   "cell_type": "markdown",
   "metadata": {},
   "source": [
    "## 1. Przeprowadź wstępną analizę danych.\n",
    "\n",
    "- pobranie danych i podstawowe statystyki"
   ]
  },
  {
   "cell_type": "code",
   "execution_count": 1,
   "metadata": {},
   "outputs": [],
   "source": [
    "import pandas as pd \n",
    "import statsmodels.api as sm\n",
    "import matplotlib.pyplot as plt"
   ]
  },
  {
   "cell_type": "code",
   "execution_count": 2,
   "metadata": {},
   "outputs": [],
   "source": [
    "# puść ten kod, \n",
    "# jeżeli wywołujesz plik  w folderze rozwiąznaia, \n",
    "# a ramka danych znajduje się w folderze data\n",
    "import os \n",
    "os.chdir('../')"
   ]
  },
  {
   "cell_type": "code",
   "execution_count": 3,
   "metadata": {},
   "outputs": [],
   "source": [
    "# Pobranie danych\n",
    "df = pd.read_parquet('data/total_agg.parquet')"
   ]
  },
  {
   "cell_type": "code",
   "execution_count": null,
   "metadata": {},
   "outputs": [],
   "source": [
    "# head\n",
    "df.head()"
   ]
  },
  {
   "cell_type": "code",
   "execution_count": null,
   "metadata": {},
   "outputs": [],
   "source": [
    "# info\n",
    "df.info()"
   ]
  },
  {
   "cell_type": "markdown",
   "metadata": {},
   "source": [
    "- reasmpling na dane dzienne\n"
   ]
  },
  {
   "cell_type": "code",
   "execution_count": 5,
   "metadata": {},
   "outputs": [],
   "source": [
    "# ustawienie daty jako indeks\n",
    "df = df.set_index('departure_date')"
   ]
  },
  {
   "cell_type": "code",
   "execution_count": null,
   "metadata": {},
   "outputs": [],
   "source": [
    "# resampling\n",
    "df_resampled = df.resample('D').sum().fillna(0)\n",
    "df_resampled"
   ]
  },
  {
   "cell_type": "markdown",
   "metadata": {},
   "source": [
    "- dekompozycja"
   ]
  },
  {
   "cell_type": "code",
   "execution_count": 7,
   "metadata": {},
   "outputs": [],
   "source": [
    "# obiekt dekompozycji\n",
    "decomp = sm.tsa.seasonal_decompose(df_resampled['numbers_of_renting'],model='additive',period= 365)"
   ]
  },
  {
   "cell_type": "code",
   "execution_count": null,
   "metadata": {},
   "outputs": [],
   "source": [
    "# wykres dekompozycji\n",
    "decomp.plot()\n",
    "plt.show()"
   ]
  },
  {
   "cell_type": "markdown",
   "metadata": {},
   "source": [
    "- zagreguj dane do miesięcznych, dla modelu długookresowego."
   ]
  },
  {
   "cell_type": "code",
   "execution_count": null,
   "metadata": {},
   "outputs": [],
   "source": [
    "df_monthly = df.resample('ME').sum().fillna(0).reset_index().rename(columns = {'numbers_of_renting': 'y',\n",
    "                                                                               'departure_date':'ds'})\n",
    "df_monthly"
   ]
  },
  {
   "cell_type": "code",
   "execution_count": null,
   "metadata": {},
   "outputs": [],
   "source": [
    "# dekompozycja miesięczna\n",
    "decom_monthly = sm.tsa.seasonal_decompose(df_monthly['y'],period=12)\n",
    "decom_monthly.plot()\n",
    "plt.show()"
   ]
  },
  {
   "cell_type": "markdown",
   "metadata": {},
   "source": [
    "2. Stwórz model długookresowy:\n",
    "    - podziel dane na zbiór treningowy oraz testowy"
   ]
  },
  {
   "cell_type": "code",
   "execution_count": 11,
   "metadata": {},
   "outputs": [],
   "source": [
    "# train / test split\n",
    "train_monthly = df_monthly.loc[df_monthly['ds'].dt.year<2020,['y','ds']]\n",
    "test_monthly = df_monthly.loc[df_monthly['ds'].dt.year==2020,['y','ds']]"
   ]
  },
  {
   "cell_type": "markdown",
   "metadata": {},
   "source": [
    "- stwórz model miesięcznej predykcji wypożyczeń w kolejnym roku "
   ]
  },
  {
   "cell_type": "code",
   "execution_count": null,
   "metadata": {},
   "outputs": [],
   "source": [
    "# Pobranie neuralprophet\n",
    "from neuralprophet import NeuralProphet\n",
    "import numpy as np"
   ]
  },
  {
   "cell_type": "code",
   "execution_count": 13,
   "metadata": {},
   "outputs": [],
   "source": [
    "# obiekt modelu\n",
    "model_monthly = NeuralProphet()"
   ]
  },
  {
   "cell_type": "code",
   "execution_count": null,
   "metadata": {},
   "outputs": [],
   "source": [
    "# fit\n",
    "model_monthly.fit(train_monthly, freq = 'ME')"
   ]
  },
  {
   "cell_type": "markdown",
   "metadata": {},
   "source": [
    "- dokonaj predykcji na danych historycznych oraz 2021 rok (przedstaw graficznie wyniki)"
   ]
  },
  {
   "cell_type": "code",
   "execution_count": null,
   "metadata": {},
   "outputs": [],
   "source": [
    "# forecast\n",
    "forecast_historical_monthly = model_monthly.predict(df_monthly[['ds','y']])\n",
    "forecast_historical_monthly"
   ]
  },
  {
   "cell_type": "code",
   "execution_count": null,
   "metadata": {},
   "outputs": [],
   "source": [
    "# Stworzenie zakresu danych dla roku 2021\n",
    "new_data_index = pd.date_range(start = df_monthly['ds'].max()+ pd.Timedelta(days=30),end = df_monthly['ds'].max()+pd.Timedelta(days=400),freq= 'ME')\n",
    "new_data_index"
   ]
  },
  {
   "cell_type": "code",
   "execution_count": null,
   "metadata": {},
   "outputs": [],
   "source": [
    "# Stworzenie ramki danych\n",
    "forecast_df_monthly = pd.DataFrame(data=new_data_index, columns = ['ds'])\n",
    "forecast_df_monthly['y'] = np.nan\n",
    "forecast_df_monthly"
   ]
  },
  {
   "cell_type": "code",
   "execution_count": null,
   "metadata": {},
   "outputs": [],
   "source": [
    "# Predykcja przyszłego roku\n",
    "forecast_future_monthly = model_monthly.predict(forecast_df_monthly)"
   ]
  },
  {
   "cell_type": "code",
   "execution_count": null,
   "metadata": {},
   "outputs": [],
   "source": [
    "forecast_future_monthly"
   ]
  },
  {
   "cell_type": "code",
   "execution_count": 20,
   "metadata": {},
   "outputs": [],
   "source": [
    "# funkcja do rysowania wykresu\n",
    "def plot_forecasts(df: pd.DataFrame, \n",
    "                   date_col :str= 'ds',\n",
    "                   actuals_col: str = 'y',\n",
    "                   pred_col: str='yhat1'):\n",
    "    plt.figure(figsize=(10,6))\n",
    "    plt.plot(df[date_col],df[actuals_col],label = 'actual')\n",
    "    plt.plot(df[date_col],df[pred_col],label = 'prediction')\n",
    "    plt.legend()\n",
    "    plt.show()"
   ]
  },
  {
   "cell_type": "code",
   "execution_count": null,
   "metadata": {},
   "outputs": [],
   "source": [
    "# Wykres\n",
    "plot_forecasts(pd.concat([forecast_historical_monthly,forecast_future_monthly]))"
   ]
  },
  {
   "cell_type": "code",
   "execution_count": 22,
   "metadata": {},
   "outputs": [],
   "source": [
    "# Dodanie miesiąca\n",
    "forecast_historical_monthly['month'] = forecast_historical_monthly.ds.dt.month\n",
    "forecast_future_monthly['month'] = forecast_future_monthly.ds.dt.month"
   ]
  },
  {
   "cell_type": "code",
   "execution_count": 23,
   "metadata": {},
   "outputs": [],
   "source": [
    "# Wyzerowanie forecastów w miesiącach, w których system nie funkcjonuje\n",
    "forecast_historical_monthly.loc[forecast_historical_monthly['month'].isin([12,1,2]),'yhat1'] = 0\n",
    "forecast_future_monthly.loc[forecast_future_monthly['month'].isin([12,1,2]),'yhat1'] = 0"
   ]
  },
  {
   "cell_type": "code",
   "execution_count": null,
   "metadata": {},
   "outputs": [],
   "source": [
    "# wykres\n",
    "plot_forecasts(pd.concat([forecast_historical_monthly, forecast_future_monthly]))"
   ]
  },
  {
   "cell_type": "code",
   "execution_count": 25,
   "metadata": {},
   "outputs": [],
   "source": [
    "# dodanie znacznika zbioru train/ test\n",
    "forecast_historical_monthly['set'] = 'train'\n",
    "forecast_historical_monthly.loc[forecast_historical_monthly['ds']>='2020-01-01','set'] = 'test'"
   ]
  },
  {
   "cell_type": "code",
   "execution_count": 26,
   "metadata": {},
   "outputs": [],
   "source": [
    "# Pobranie metryk\n",
    "from sklearn.metrics import root_mean_squared_error, r2_score"
   ]
  },
  {
   "cell_type": "code",
   "execution_count": null,
   "metadata": {},
   "outputs": [],
   "source": [
    "# r2 score\n",
    "forecast_historical_monthly.loc[:,['y','yhat1','set']].groupby('set').apply(lambda x: r2_score(x['y'],x['yhat1']))"
   ]
  },
  {
   "cell_type": "code",
   "execution_count": null,
   "metadata": {},
   "outputs": [],
   "source": [
    "# rmse\n",
    "forecast_historical_monthly.loc[:,['y','yhat1','set']].groupby('set').apply(lambda x: root_mean_squared_error(x['y'],x['yhat1']))"
   ]
  },
  {
   "cell_type": "code",
   "execution_count": null,
   "metadata": {},
   "outputs": [],
   "source": [
    "forecast_historical_monthly.describe()"
   ]
  },
  {
   "cell_type": "code",
   "execution_count": 30,
   "metadata": {},
   "outputs": [],
   "source": [
    "import os \n",
    "import joblib"
   ]
  },
  {
   "cell_type": "code",
   "execution_count": 31,
   "metadata": {},
   "outputs": [],
   "source": [
    "if not os.path.exists('models'):\n",
    "    os.mkdir('models')"
   ]
  },
  {
   "cell_type": "code",
   "execution_count": null,
   "metadata": {},
   "outputs": [],
   "source": [
    "joblib.dump(model_monthly, 'models/model_monthly_forecasts.joblib')"
   ]
  },
  {
   "cell_type": "code",
   "execution_count": null,
   "metadata": {},
   "outputs": [],
   "source": []
  },
  {
   "cell_type": "markdown",
   "metadata": {},
   "source": [
    "## 3. Model krótkookresowy - predykcja na kolejny dzień:\n",
    "Drugi model będzie potrzebny, aby na koniec danego dnia mieć oszacowanie jak bardzo system będzie oblegany. Można dzięki temu zaplanować serwis stacji, rowerów, czy przemieścić rowery tak, aby najbardziej oblegane stacje miały dostatecznie dużo pojazdów.\n",
    "\n",
    "- Dodaj do danych zmienne egzogeniczne (średnie wartości z poprzedniego dnia, temperatura z ostatnich 7 dni)"
   ]
  },
  {
   "cell_type": "code",
   "execution_count": 33,
   "metadata": {},
   "outputs": [],
   "source": [
    "df_resampled = df_resampled.sort_index()"
   ]
  },
  {
   "cell_type": "code",
   "execution_count": null,
   "metadata": {},
   "outputs": [],
   "source": [
    "df_resampled.head()"
   ]
  },
  {
   "cell_type": "code",
   "execution_count": 35,
   "metadata": {},
   "outputs": [],
   "source": [
    "# dodanie zmienych z wczoraj\n",
    "df_resampled['temperature_yesterday'] = df_resampled['Air temperature (degC)'].shift(1)\n",
    "df_resampled['avg_speed_yesterday'] = df_resampled['avg_speed (km/h)'].shift(1)\n",
    "df_resampled['avg_duration_yesterday'] = df_resampled['duration (sec.)'].shift(1)"
   ]
  },
  {
   "cell_type": "code",
   "execution_count": 36,
   "metadata": {},
   "outputs": [],
   "source": [
    "# dodanie informacji z daty\n",
    "df_resampled['month'] = df_resampled.index.month\n",
    "df_resampled['day'] = df_resampled.index.day\n",
    "df_resampled['quarter'] = df_resampled.index.quarter"
   ]
  },
  {
   "cell_type": "code",
   "execution_count": null,
   "metadata": {},
   "outputs": [],
   "source": [
    "# usunięcie braków danych\n",
    "df_resampled = df_resampled.dropna().reset_index()\n",
    "df_resampled"
   ]
  },
  {
   "cell_type": "code",
   "execution_count": 38,
   "metadata": {},
   "outputs": [],
   "source": [
    "# dopasowanie nazw w ramce danych\n",
    "df_resampled = df_resampled.rename(columns= {'departure_date':'ds','numbers_of_renting':'y'})"
   ]
  },
  {
   "cell_type": "code",
   "execution_count": null,
   "metadata": {},
   "outputs": [],
   "source": [
    "df_resampled"
   ]
  },
  {
   "cell_type": "markdown",
   "metadata": {},
   "source": [
    "- podziel dane na zbiór treningowy oraz testowy\n"
   ]
  },
  {
   "cell_type": "code",
   "execution_count": 40,
   "metadata": {},
   "outputs": [],
   "source": [
    "# train / test split\n",
    "train_daily = df_resampled[df_resampled['ds'].dt.year < 2020]\n",
    "test_daily = df_resampled[df_resampled['ds'].dt.year==2020]"
   ]
  },
  {
   "cell_type": "code",
   "execution_count": 41,
   "metadata": {},
   "outputs": [],
   "source": [
    "# zmienne do modelowania\n",
    "cols_names =  ['ds','y','avg_speed_yesterday','avg_duration_yesterday','Air temperature (degC)']"
   ]
  },
  {
   "cell_type": "code",
   "execution_count": null,
   "metadata": {},
   "outputs": [],
   "source": [
    "train_daily[cols_names]"
   ]
  },
  {
   "cell_type": "markdown",
   "metadata": {},
   "source": [
    "- Stwórz model dedykowany do szeregów czasowych ze zmiennymi egzogenicznymi.\n"
   ]
  },
  {
   "cell_type": "code",
   "execution_count": 43,
   "metadata": {},
   "outputs": [],
   "source": [
    "# model na danych dziennych \n",
    "model_daily = NeuralProphet()\n"
   ]
  },
  {
   "cell_type": "code",
   "execution_count": null,
   "metadata": {},
   "outputs": [],
   "source": [
    "# dodanie regresorów\n",
    "model_daily.add_future_regressor('avg_speed_yesterday')\n",
    "model_daily.add_future_regressor('avg_duration_yesterday')\n",
    "model_daily.add_lagged_regressor('Air temperature (degC)',n_lags=7)\n",
    "model_daily.add_country_holidays('Finland')"
   ]
  },
  {
   "cell_type": "code",
   "execution_count": null,
   "metadata": {},
   "outputs": [],
   "source": [
    "# fit\n",
    "model_daily.fit(train_daily[cols_names])"
   ]
  },
  {
   "cell_type": "markdown",
   "metadata": {},
   "source": [
    "- Oceń model.\n"
   ]
  },
  {
   "cell_type": "code",
   "execution_count": null,
   "metadata": {},
   "outputs": [],
   "source": [
    "# predykcje historyczne\n",
    "historical_predictions = model_daily.predict(df_resampled[cols_names])"
   ]
  },
  {
   "cell_type": "code",
   "execution_count": 47,
   "metadata": {},
   "outputs": [],
   "source": [
    "# dodanie miesiąca oraz identyfikatora train/test\n",
    "historical_predictions['month'] = historical_predictions.ds.dt.month\n",
    "historical_predictions['set'] = 'train'\n",
    "historical_predictions.loc[historical_predictions['ds']>='2020-01-01','set'] = 'test'"
   ]
  },
  {
   "cell_type": "code",
   "execution_count": null,
   "metadata": {},
   "outputs": [],
   "source": [
    "# wykres\n",
    "plot_forecasts(historical_predictions)"
   ]
  },
  {
   "cell_type": "code",
   "execution_count": 49,
   "metadata": {},
   "outputs": [],
   "source": [
    "# wyzerowanie miesięcy z zamkniętym systemem\n",
    "historical_predictions.loc[historical_predictions['month'].isin([12,1,2]),'yhat1'] = 0"
   ]
  },
  {
   "cell_type": "code",
   "execution_count": null,
   "metadata": {},
   "outputs": [],
   "source": [
    "# ponowny wykres\n",
    "plot_forecasts(historical_predictions)"
   ]
  },
  {
   "cell_type": "code",
   "execution_count": null,
   "metadata": {},
   "outputs": [],
   "source": [
    "historical_predictions[['yhat1']].isna().max()"
   ]
  },
  {
   "cell_type": "code",
   "execution_count": null,
   "metadata": {},
   "outputs": [],
   "source": [
    "historical_predictions[historical_predictions['yhat1'].isna()]"
   ]
  },
  {
   "cell_type": "code",
   "execution_count": 53,
   "metadata": {},
   "outputs": [],
   "source": [
    "# usunięcie braków danych\n",
    "historical_predictions  = historical_predictions.dropna()"
   ]
  },
  {
   "cell_type": "code",
   "execution_count": null,
   "metadata": {},
   "outputs": [],
   "source": [
    "historical_predictions.shape"
   ]
  },
  {
   "cell_type": "code",
   "execution_count": null,
   "metadata": {},
   "outputs": [],
   "source": [
    "# r2 score\n",
    "historical_predictions.loc[:,['y','yhat1','set']].groupby('set').apply(lambda x:r2_score(x['y'],x['yhat1']))"
   ]
  },
  {
   "cell_type": "code",
   "execution_count": null,
   "metadata": {},
   "outputs": [],
   "source": [
    "# rmse\n",
    "historical_predictions.loc[:,['y','yhat1','set']].groupby('set').apply(lambda x:root_mean_squared_error(x['y'],x['yhat1']))"
   ]
  },
  {
   "cell_type": "code",
   "execution_count": null,
   "metadata": {},
   "outputs": [],
   "source": [
    "historical_predictions.describe()"
   ]
  },
  {
   "cell_type": "markdown",
   "metadata": {},
   "source": [
    "- Porównaj model do podejścia machine learning."
   ]
  },
  {
   "cell_type": "code",
   "execution_count": 58,
   "metadata": {},
   "outputs": [],
   "source": [
    "df_resampled = df.resample('D').sum().fillna(0)"
   ]
  },
  {
   "cell_type": "code",
   "execution_count": null,
   "metadata": {},
   "outputs": [],
   "source": [
    "df_resampled.columns"
   ]
  },
  {
   "cell_type": "code",
   "execution_count": null,
   "metadata": {},
   "outputs": [],
   "source": [
    "# dodanie zmienych z wczoraj\n",
    "df_resampled = df_resampled.sort_index()\n",
    "df_resampled['temperature_yesterday'] = df_resampled['Air temperature (degC)'].shift(1)\n",
    "df_resampled['avg_speed_yesterday'] = df_resampled['avg_speed (km/h)'].shift(1)\n",
    "df_resampled['avg_duration_yesterday'] = df_resampled['duration (sec.)'].shift(1)\n",
    "df_resampled = df_resampled.rename(columns = {'departure_date':'ds', 'numbers_of_renting':'y' })\n",
    "df_resampled['y_yesterday'] = df_resampled['y'].shift(1)\n",
    "# dodanie informacji z daty\n",
    "df_resampled['month'] = df_resampled.index.month\n",
    "df_resampled['day'] = df_resampled.index.day\n",
    "df_resampled['quarter'] = df_resampled.index.quarter\n",
    "# usunięcie braków danych\n",
    "df_resampled = df_resampled.dropna().reset_index()\n",
    "df_resampled = df_resampled.rename(columns = {'departure_date':'ds'})\n",
    "df_resampled"
   ]
  },
  {
   "cell_type": "code",
   "execution_count": 61,
   "metadata": {},
   "outputs": [],
   "source": [
    "# Filtrowanie tylko niepustych wartości\n",
    "df_resampled_non_zero= df_resampled[df_resampled['y']>0].reset_index(drop= True)"
   ]
  },
  {
   "cell_type": "code",
   "execution_count": 62,
   "metadata": {},
   "outputs": [],
   "source": [
    "# train/test split\n",
    "train_daily  =df_resampled_non_zero[df_resampled_non_zero['ds'].dt.year<2020]\n",
    "test_daily = df_resampled_non_zero[df_resampled_non_zero['ds'].dt.year ==2020]"
   ]
  },
  {
   "cell_type": "code",
   "execution_count": null,
   "metadata": {},
   "outputs": [],
   "source": [
    "train_daily.columns"
   ]
  },
  {
   "cell_type": "code",
   "execution_count": 64,
   "metadata": {},
   "outputs": [],
   "source": [
    "# zmienne x\n",
    "x_names = ['temperature_yesterday',\n",
    "       'avg_speed_yesterday', 'avg_duration_yesterday','month', 'day',\n",
    "       'quarter', 'y_yesterday']"
   ]
  },
  {
   "cell_type": "code",
   "execution_count": 65,
   "metadata": {},
   "outputs": [],
   "source": [
    "# train_x / train_y\n",
    "train_x = train_daily[x_names]\n",
    "train_y = train_daily['y']\n",
    "test_x  = test_daily[x_names]\n",
    "test_y = test_daily['y']"
   ]
  },
  {
   "cell_type": "code",
   "execution_count": 66,
   "metadata": {},
   "outputs": [],
   "source": [
    "# pobranie funkcji\n",
    "from sklearn.ensemble import RandomForestRegressor\n",
    "from scipy.optimize import differential_evolution"
   ]
  },
  {
   "cell_type": "code",
   "execution_count": 67,
   "metadata": {},
   "outputs": [],
   "source": [
    "# Granice przeszukiwan\n",
    "bounds = [(50,200),\n",
    "          (5,50),\n",
    "          (5,50)]"
   ]
  },
  {
   "cell_type": "code",
   "execution_count": 68,
   "metadata": {},
   "outputs": [],
   "source": [
    "# Funkcja optymalizacyjna\n",
    "def optimization_function(params, train_x, train_y, test_x,test_y):\n",
    "    params = {'n_estimators': int(round(params[0])),\n",
    "    \n",
    "              'max_depth': int(round(params[1])),\n",
    "              'min_samples_split': int(round(params[2]))\n",
    "              }\n",
    "    model = RandomForestRegressor(**params).fit(train_x,train_y)\n",
    "    preds = model.predict(test_x)\n",
    "    return -r2_score(test_y,preds)"
   ]
  },
  {
   "cell_type": "code",
   "execution_count": 69,
   "metadata": {},
   "outputs": [],
   "source": [
    "# Optymalizacja ewolucyjna\n",
    "optimization = differential_evolution(func = optimization_function,\n",
    "                                      bounds = bounds,\n",
    "                                      args = (train_x, train_y,test_x,test_y),\n",
    "                                      maxiter=10)"
   ]
  },
  {
   "cell_type": "code",
   "execution_count": 74,
   "metadata": {},
   "outputs": [],
   "source": [
    "# Najlepsze parametry\n",
    "params = optimization.x\n",
    "best_params ={'n_estimators': int(round(params[0])),\n",
    "              'max_depth': int(round(params[1])),\n",
    "              'min_samples_split': int(round(params[2]))}"
   ]
  },
  {
   "cell_type": "code",
   "execution_count": null,
   "metadata": {},
   "outputs": [],
   "source": [
    "best_params"
   ]
  },
  {
   "cell_type": "code",
   "execution_count": 76,
   "metadata": {},
   "outputs": [],
   "source": [
    "# finalny model\n",
    "model_final = RandomForestRegressor(**best_params).fit(train_x,train_y)"
   ]
  },
  {
   "cell_type": "code",
   "execution_count": 77,
   "metadata": {},
   "outputs": [],
   "source": [
    "# predykcje\n",
    "df_resampled_non_zero['pred_RF'] = model_final.predict(df_resampled_non_zero[x_names])"
   ]
  },
  {
   "cell_type": "code",
   "execution_count": null,
   "metadata": {},
   "outputs": [],
   "source": [
    "# wykres \n",
    "plt.figure(figsize=(10,6))\n",
    "plt.plot(historical_predictions['ds'],historical_predictions['y'],label=  'actual')\n",
    "plt.plot(df_resampled_non_zero['ds'], df_resampled_non_zero['pred_RF'],label = 'prediction_RF')\n",
    "plt.legend()\n",
    "plt.show()"
   ]
  },
  {
   "cell_type": "code",
   "execution_count": null,
   "metadata": {},
   "outputs": [],
   "source": [
    "# wykres\n",
    "plt.figure(figsize=(10,6))\n",
    "plt.plot(historical_predictions['ds'],historical_predictions['y'],label=  'actual')\n",
    "plt.plot(df_resampled_non_zero['ds'], df_resampled_non_zero['pred_RF'],label = 'prediction_RF')\n",
    "plt.plot(historical_predictions['ds'],historical_predictions['yhat1'],label='prediction_NP', alpha=0.6)\n",
    "plt.legend()\n",
    "plt.show()"
   ]
  },
  {
   "cell_type": "code",
   "execution_count": 83,
   "metadata": {},
   "outputs": [],
   "source": [
    "# znacznik train/test\n",
    "df_resampled_non_zero['set'] = 'train'\n",
    "df_resampled_non_zero.loc[df_resampled_non_zero['ds']>='2020-01-01','set'] = 'test'"
   ]
  },
  {
   "cell_type": "code",
   "execution_count": null,
   "metadata": {},
   "outputs": [],
   "source": [
    "# r2_score\n",
    "df_resampled_non_zero.loc[:,['y','pred_RF','set']].groupby('set').apply(lambda x: r2_score(x['y'],x['pred_RF']))"
   ]
  },
  {
   "cell_type": "code",
   "execution_count": null,
   "metadata": {},
   "outputs": [],
   "source": [
    "# r2 score na neural prophet\n",
    "historical_predictions.loc[historical_predictions['y']>0,['y','yhat1','set']].groupby('set').apply(lambda x: r2_score(x['y'],x['yhat1']))"
   ]
  },
  {
   "cell_type": "code",
   "execution_count": 86,
   "metadata": {},
   "outputs": [],
   "source": [
    "# biblioteki do zapisania modeli\n",
    "import joblib\n",
    "import os "
   ]
  },
  {
   "cell_type": "code",
   "execution_count": 87,
   "metadata": {},
   "outputs": [],
   "source": [
    "# stworzenie ścieżki\n",
    "if not os.path.exists('models'):\n",
    "    os.mkdir('models')"
   ]
  },
  {
   "cell_type": "code",
   "execution_count": null,
   "metadata": {},
   "outputs": [],
   "source": [
    "# zapisanie modelu krótkookresowego\n",
    "joblib.dump(model_final, 'models/model_RF_daily_forecasts.joblib')\n"
   ]
  },
  {
   "cell_type": "code",
   "execution_count": null,
   "metadata": {},
   "outputs": [],
   "source": [
    "# zapisanie modelu długookresowego\n"
   ]
  }
 ],
 "metadata": {
  "kernelspec": {
   "display_name": "Python 3",
   "language": "python",
   "name": "python3"
  },
  "language_info": {
   "codemirror_mode": {
    "name": "ipython",
    "version": 3
   },
   "file_extension": ".py",
   "mimetype": "text/x-python",
   "name": "python",
   "nbconvert_exporter": "python",
   "pygments_lexer": "ipython3",
   "version": "3.12.5"
  }
 },
 "nbformat": 4,
 "nbformat_minor": 2
}
