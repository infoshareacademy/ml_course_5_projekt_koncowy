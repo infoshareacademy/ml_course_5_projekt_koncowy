{
 "cells": [
  {
   "cell_type": "markdown",
   "metadata": {},
   "source": [
    "# Omówienie zbioru danych - EDA\n",
    "\n",
    "Dane zawierają informacje na temat wypożyczeń rowerów\n",
    "\n",
    "Źródło: https://www.kaggle.com/code/sasakitetsuya/analysis-for-bike-use-in-helsinki\n",
    "\n",
    "Ogólny cel projektu:\n",
    "1. Zrozumienie danych i analizę różnych aspektów takich jak, charakterystyka stacji czy klientów.\n",
    "2. Obróbka danych - jest ich bardzo dużo i należy je odpowiednio przygotować.\n",
    "3. Model prognozy przyszłorocznej liczby wypożyczeń.\n",
    "4. Prognoza wypożyczeń na kolejny dzień.\n",
    "5. System do alertów (progonozowanie czy wypożyczeń będzie więcej niż zwrotów) w celu szybszej reakcji.\n",
    "\n",
    "\n",
    "Cele EDA:\n",
    "Dane te pozwalają na analizę wielu aspektów. \n",
    "Lista zadań do realizacji:\n",
    "1. Pobranie danych i podstawowe statystyki (head, info)\n",
    "2. Konwersja dat. (z formatu object na datetime)\n",
    "3. Agregacja danych:\n",
    "    - Przygotowanie funkcji do agregacji\n",
    "    - Stworzenie i zapisanie ramki danych z sumą wypożyczeń, średnim dystansem, prędkością i pogodą dla każdego dnia.\n",
    "    - Stworzenie i zapisanie ramki danych z sumą wypożyczeń, średnim dystansem, prędkością i pogodą dla każdego dnia i stacji.\n",
    "    - Zapisanie zagregowanych danych.\n",
    "4. Mapa stacji\n",
    "    - Stworzenie wykresu położenia stacji. (w zbiorze mamy współrzędne geograficzne).\n",
    "5. Analiza stacji:\n",
    "    - minimalne i maksymalne daty wypożyczeń dla stacji\n",
    "    - liczba wypożyczeń (Najpopularniejsze stacje)\n",
    "6. Analiza użytkowników:\n",
    "- Jaki jest rozkład:\n",
    "    - pokonywanej odległości\n",
    "    - czasu\n",
    "    - prędkości\n",
    "- Czy zmienia się po latach?\n",
    "7. Funkcja do oceny czy w pobliżu jest stacja\n",
    "- Funkcja, która dla wybranej stacji, sprawdzi w jakiej odległości znajduje się najbliższa stacja\n",
    "- Pozwoli dokonać ostatecznej oceny, czy stacje z małą liczbą wypożyczeń można usunąć.\n",
    "\n",
    "\n",
    "\n"
   ]
  },
  {
   "cell_type": "code",
   "execution_count": null,
   "metadata": {},
   "outputs": [],
   "source": [
    "#pip install kagglehub"
   ]
  },
  {
   "cell_type": "code",
   "execution_count": null,
   "metadata": {},
   "outputs": [],
   "source": [
    "import pandas as pd\n",
    "import numpy as np\n",
    "import matplotlib.pyplot as plt\n",
    "import os\n",
    "import seaborn as sns"
   ]
  },
  {
   "cell_type": "markdown",
   "metadata": {},
   "source": [
    "1. Pobranie danych i podstawowe statystyki (head, info)"
   ]
  },
  {
   "cell_type": "code",
   "execution_count": null,
   "metadata": {},
   "outputs": [],
   "source": [
    "import kagglehub\n"
   ]
  },
  {
   "cell_type": "code",
   "execution_count": null,
   "metadata": {},
   "outputs": [],
   "source": [
    "# wczytanie danych\n"
   ]
  },
  {
   "cell_type": "code",
   "execution_count": null,
   "metadata": {},
   "outputs": [],
   "source": [
    "# info \n"
   ]
  },
  {
   "cell_type": "code",
   "execution_count": null,
   "metadata": {},
   "outputs": [],
   "source": [
    "# head\n"
   ]
  },
  {
   "cell_type": "markdown",
   "metadata": {},
   "source": [
    "2. Konwersja dat. (z formatu object na datetime)"
   ]
  },
  {
   "cell_type": "code",
   "execution_count": null,
   "metadata": {},
   "outputs": [],
   "source": [
    "\n",
    "df['departure'] = pd.to_datetime(df['departure'])\n",
    "df[\"departure_date\"] = df['departure'].dt.round(\"D\")\n",
    "df[\"departure_date_hours\"] = df['departure'].dt.round(\"h\")"
   ]
  },
  {
   "cell_type": "code",
   "execution_count": null,
   "metadata": {},
   "outputs": [],
   "source": [
    "df['return'] = pd.to_datetime(df['return'])\n",
    "df[\"return_date\"] = df['return'].dt.round(\"D\")\n",
    "df[\"return_date_hours\"] = df['return'].dt.round(\"h\")"
   ]
  },
  {
   "cell_type": "code",
   "execution_count": null,
   "metadata": {},
   "outputs": [],
   "source": [
    "df.to_parquet('data/source_file.parquet')"
   ]
  },
  {
   "cell_type": "markdown",
   "metadata": {},
   "source": [
    "3. Agregacja danych:\n",
    "    - Przygotowanie funkcji do agregacji\n",
    "    - Stworzenie i zapisanie ramki danych z sumą wypożyczeń, średnim dystansem, prędkością i pogodą dla każdego dnia.\n",
    "    - Stworzenie i zapisanie ramki danych z sumą wypożyczeń, średnim dystansem, prędkością i pogodą dla każdego dnia i stacji.\n",
    "    - Zapisanie zagregowanych danych."
   ]
  },
  {
   "cell_type": "code",
   "execution_count": null,
   "metadata": {},
   "outputs": [],
   "source": [
    "import os"
   ]
  },
  {
   "cell_type": "code",
   "execution_count": null,
   "metadata": {},
   "outputs": [],
   "source": [
    "from help_function import agg_data"
   ]
  },
  {
   "cell_type": "code",
   "execution_count": null,
   "metadata": {},
   "outputs": [],
   "source": [
    "## ogólny szereg czasowy - liczba wypożyczeń dziennie\n",
    "df_total_agg = agg_data(df,['departure_date'],\n",
    "                       {'departure_name':'count',\n",
    "                       'distance (m)': 'mean',\n",
    "                       'duration (sec.)': 'mean',\n",
    "                       'avg_speed (km/h)': 'mean',\n",
    "                       'Air temperature (degC)': 'mean'})\n"
   ]
  },
  {
   "cell_type": "code",
   "execution_count": null,
   "metadata": {},
   "outputs": [],
   "source": [
    "df_total_agg"
   ]
  },
  {
   "cell_type": "code",
   "execution_count": null,
   "metadata": {},
   "outputs": [],
   "source": [
    "#os.mkdir('data')"
   ]
  },
  {
   "cell_type": "code",
   "execution_count": null,
   "metadata": {},
   "outputs": [],
   "source": [
    "df_total_agg.rename(columns={'departure_name':'numbers_of_renting'}).to_parquet('data/total_agg.parquet')"
   ]
  },
  {
   "cell_type": "code",
   "execution_count": null,
   "metadata": {},
   "outputs": [],
   "source": [
    "df_total_agg.head()"
   ]
  },
  {
   "cell_type": "code",
   "execution_count": null,
   "metadata": {},
   "outputs": [],
   "source": [
    "## aggregate data - departures\n",
    "df_agg_dep= agg_data(df,\n",
    "                    ['departure_id','departure_date_hours'],\n",
    "                    {'departure_name':'count',\n",
    "                    'Air temperature (degC)': 'mean',\n",
    "                    'distance (m)': 'mean',\n",
    "                    'duration (sec.)':'mean'}  )"
   ]
  },
  {
   "cell_type": "code",
   "execution_count": null,
   "metadata": {},
   "outputs": [],
   "source": [
    "df_agg_dep = df_agg_dep.rename(columns={'departure_name': 'nr_of_departures'})"
   ]
  },
  {
   "cell_type": "code",
   "execution_count": null,
   "metadata": {},
   "outputs": [],
   "source": [
    "df_agg_dep.to_parquet('data/hourly_data_per_station.parquet')"
   ]
  },
  {
   "cell_type": "code",
   "execution_count": null,
   "metadata": {},
   "outputs": [],
   "source": [
    "df_agg_dep.head()"
   ]
  },
  {
   "cell_type": "code",
   "execution_count": null,
   "metadata": {},
   "outputs": [],
   "source": [
    "## aggregate data - departures\n",
    "df_agg_ret= agg_data(df,\n",
    "                    ['return_id','return_date_hours'],\n",
    "                    {'return_name':'count',\n",
    "                    'Air temperature (degC)': 'mean',\n",
    "                    'distance (m)': 'mean',\n",
    "                    'duration (sec.)':'mean'}  )"
   ]
  },
  {
   "cell_type": "code",
   "execution_count": null,
   "metadata": {},
   "outputs": [],
   "source": [
    "df_agg_ret = df_agg_ret.rename(columns={'return_name':'nr_of_returns'})"
   ]
  },
  {
   "cell_type": "code",
   "execution_count": null,
   "metadata": {},
   "outputs": [],
   "source": [
    "df_agg_ret.to_parquet('data/hourly_data_per_station_returns.parquet')"
   ]
  },
  {
   "cell_type": "code",
   "execution_count": null,
   "metadata": {},
   "outputs": [],
   "source": [
    "check = df_agg_ret.groupby(['return_id','return_date_hours']).count()[['nr_of_returns']]"
   ]
  },
  {
   "cell_type": "code",
   "execution_count": null,
   "metadata": {},
   "outputs": [],
   "source": [
    "check[check['nr_of_returns']>1]"
   ]
  },
  {
   "cell_type": "markdown",
   "metadata": {},
   "source": [
    "5. Mapa stacji\n",
    "    - Stworzenie wykresu położenia stacji. (w zbiorze mamy współrzędne geograficzne)."
   ]
  },
  {
   "cell_type": "code",
   "execution_count": null,
   "metadata": {},
   "outputs": [],
   "source": [
    "pip install folium"
   ]
  },
  {
   "cell_type": "code",
   "execution_count": null,
   "metadata": {},
   "outputs": [],
   "source": [
    "df.head()"
   ]
  },
  {
   "cell_type": "code",
   "execution_count": null,
   "metadata": {},
   "outputs": [],
   "source": [
    "df_map = df.loc[df['departure']>='2020-01-01',[\n",
    "    'departure_name','departure_latitude', 'departure_longitude','return_name']].groupby(\n",
    "        'departure_name').agg({'departure_latitude': 'mean',\n",
    "                              'departure_longitude': 'mean',\n",
    "                              'return_name': 'count'\n",
    "                              }).reset_index().rename(columns={'return_name':'amount'})"
   ]
  },
  {
   "cell_type": "code",
   "execution_count": null,
   "metadata": {},
   "outputs": [],
   "source": [
    "df_map"
   ]
  },
  {
   "cell_type": "markdown",
   "metadata": {},
   "source": []
  },
  {
   "cell_type": "code",
   "execution_count": null,
   "metadata": {},
   "outputs": [],
   "source": [
    "import folium"
   ]
  },
  {
   "cell_type": "code",
   "execution_count": null,
   "metadata": {},
   "outputs": [],
   "source": [
    "the_map= folium.Map(location=[df_map.departure_latitude.mean(), df_map.departure_longitude.mean()], zoom_start=10)"
   ]
  },
  {
   "cell_type": "code",
   "execution_count": null,
   "metadata": {},
   "outputs": [],
   "source": [
    "for i in range(len(df_map)):\n",
    "    lat = df.loc[i,'departure_latitude']\n",
    "    lon = df.loc[i,'departure_longitude']\n",
    "    amount = df_map.loc[i,'amount']\n",
    "    name= df_map.loc[i,'departure_name']\n",
    "    folium.Marker(location=[lat, lon], popup=f\"Nazwa: {name}\\n wypoczenia: {amount}\",).add_to(the_map)"
   ]
  },
  {
   "cell_type": "code",
   "execution_count": null,
   "metadata": {},
   "outputs": [],
   "source": [
    "the_map"
   ]
  },
  {
   "cell_type": "code",
   "execution_count": null,
   "metadata": {},
   "outputs": [],
   "source": [
    "the_map_2= folium.Map(location=[df_map.departure_latitude.mean(), df_map.departure_longitude.mean()], zoom_start=10)"
   ]
  },
  {
   "cell_type": "code",
   "execution_count": null,
   "metadata": {},
   "outputs": [],
   "source": [
    "for i in range(len(df_map)):\n",
    "    lat = df_map.loc[i,'departure_latitude']\n",
    "    lon = df_map.loc[i,'departure_longitude']\n",
    "    amount = df_map.loc[i,'amount']\n",
    "    name= df_map.loc[i,'departure_name']\n",
    "    folium.CircleMarker(\n",
    "        location=[lat, lon],\n",
    "        radius=amount / 1000,  # Skala wielkości\n",
    "        color='blue',\n",
    "        fill=True,\n",
    "        fill_color='blue',\n",
    "        fill_opacity=0.6,\n",
    "        popup=f\"Liczba wypożyczeń: {amount}\\n stacja: {name}\"\n",
    "    ).add_to(the_map_2)"
   ]
  },
  {
   "cell_type": "code",
   "execution_count": null,
   "metadata": {},
   "outputs": [],
   "source": [
    "the_map_2"
   ]
  },
  {
   "cell_type": "code",
   "execution_count": null,
   "metadata": {},
   "outputs": [],
   "source": [
    "# zapisywanie mapy\n",
    "the_map_2.save(\"map.html\")"
   ]
  },
  {
   "cell_type": "markdown",
   "metadata": {},
   "source": [
    "5. Analiza stacji:\n",
    "    - minimalne i maksymalne daty wypożyczeń dla stacji\n",
    "    - liczba wypożyczeń (Najpopularniejsze stacje)"
   ]
  },
  {
   "cell_type": "code",
   "execution_count": null,
   "metadata": {},
   "outputs": [],
   "source": [
    "\n",
    "# minimalna data wypożyczenia ze stacji\n",
    "min_dates = df.loc[:,['departure_id','departure_date']].groupby('departure_id').min()\n",
    "df['departure_date'].min()\n",
    "df['departure_date'].max()\n",
    "min_dates[min_dates['departure_date']>='2020-01-01']"
   ]
  },
  {
   "cell_type": "code",
   "execution_count": null,
   "metadata": {},
   "outputs": [],
   "source": [
    "df_map.describe()"
   ]
  },
  {
   "cell_type": "code",
   "execution_count": null,
   "metadata": {},
   "outputs": [],
   "source": [
    "potential_reduction = df_map[df_map['amount']<=df_map.amount.quantile(0.25)]\n",
    "potential_reduction"
   ]
  },
  {
   "cell_type": "markdown",
   "metadata": {},
   "source": [
    "6. Analiza użytkowników:\n",
    "- Jaki jest rozkład:\n",
    "    - pokonywanej odległości\n",
    "    - czasu\n",
    "    - prędkości\n",
    "- Czy zmienia się po latach?"
   ]
  },
  {
   "cell_type": "code",
   "execution_count": null,
   "metadata": {},
   "outputs": [],
   "source": [
    "df.head()"
   ]
  },
  {
   "cell_type": "code",
   "execution_count": null,
   "metadata": {},
   "outputs": [],
   "source": [
    "sns.kdeplot(df,x='distance (m)')"
   ]
  },
  {
   "cell_type": "code",
   "execution_count": null,
   "metadata": {},
   "outputs": [],
   "source": [
    "df[['distance (m)','duration (sec.)']].describe()"
   ]
  },
  {
   "cell_type": "markdown",
   "metadata": {},
   "source": [
    "7. Funkcja do oceny czy w pobliżu jest stacja\n",
    "- Funkcja, która dla wybranej stacji, sprawdzi w jakiej odległości znajduje się najbliższa stacja\n",
    "- Pozwoli dokonać ostatecznej oceny, czy stacje z małą liczbą wypożyczeń można usunąć."
   ]
  },
  {
   "cell_type": "code",
   "execution_count": null,
   "metadata": {},
   "outputs": [],
   "source": [
    "pip install geopy"
   ]
  },
  {
   "cell_type": "code",
   "execution_count": null,
   "metadata": {},
   "outputs": [],
   "source": [
    "from geopy.distance import geodesic"
   ]
  },
  {
   "cell_type": "code",
   "execution_count": null,
   "metadata": {},
   "outputs": [],
   "source": [
    "def calculate_min_distance(data_point, points_to_check):\n",
    "    distances = []\n",
    "    for i in points_to_check:\n",
    "        point = points_to_check[i]\n",
    "        distance= geodesic(data_point, point).meters\n",
    "        distances.append(distance)\n",
    "    return min(distances), points_to_check.index()"
   ]
  }
 ],
 "metadata": {
  "kernelspec": {
   "display_name": "Python 3",
   "language": "python",
   "name": "python3"
  },
  "language_info": {
   "codemirror_mode": {
    "name": "ipython",
    "version": 3
   },
   "file_extension": ".py",
   "mimetype": "text/x-python",
   "name": "python",
   "nbconvert_exporter": "python",
   "pygments_lexer": "ipython3",
   "version": "3.12.5"
  }
 },
 "nbformat": 4,
 "nbformat_minor": 2
}
