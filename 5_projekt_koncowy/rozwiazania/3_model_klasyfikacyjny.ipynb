{
 "cells": [
  {
   "cell_type": "markdown",
   "metadata": {},
   "source": [
    "# Projekt - model klasyfikacyjny\n",
    "\n",
    "Cel projektu: Stworzenie systemu do alertów (progonozowanie czy wypożyczeń będzie więcej niż zwrotów).\n",
    "Alert powinien dotyczy kolejnej godziny. Tak, aby móc wysłać pracowników w rejony z niedoborem rowerów i przewieźć tam rezerwowe rowery lub pojazdów z innych lokalizacji.\n",
    "\n",
    "Zadania do realizacji\n",
    "1. Data preprocessing:\n",
    "    - Pobranie danych\n",
    "    - Filtrowanie danych (jaka historia będzie nam potrzebna do modelowania?).\n",
    "    - Połączenie danych:\n",
    "        - Jaki powinien być typ połączenia?\n",
    "        - Jak uzupełnić braki danych w kolumnach departure name oraz date?\n",
    "    - Wstępne sprawdzenie danych.\n",
    "    - Resampling danych na dane godzinowe oraz uzupełnienie braków danych.\n",
    "    - Stworzenie nowej zmiennej kategorycznej (y): Czy liczba wypożyczeń w bieżącej godzinie jest większa niż liczba zwrotów.\n",
    "    - Stworzenie zmiennych z daty: godzina,miesiąc, kwartał.\n",
    "    - Enkoding zmiennej departure name\n",
    "    - Stworzenie lagów (wartości z poprzednich okresów):\n",
    "        - Wartości dla danej stacji z poprzednich godzin / dni\n",
    "        - Zastanów się nad innymi przekształceniami i agregacjami zmiennych.\n",
    "        - Stwórz funkcję do przygotowania zmiennych.\n",
    "    - Filtrowanie zbioru:\n",
    "        - Czy potrzebujemy mieć wszystkie miesiące?\n",
    "        - Czy model będzie działać o każdej porze dnia?\n",
    "        - Czy chcemy modelować wszystkie stacje?\n",
    "    - Selekcja zmiennych\n",
    "    - Detekcja outlierów.\n",
    "    - Pamiętaj, aby usuwać zbędne obiekty, gdyż może Ci nie wystarczyć pamięci do przetwarzania.\n",
    "2. Optymalizacja modelu:\n",
    "    - Wykorzystanie jednego z poznanych algorytmów optymalizacyjnych.\n",
    "    - W przypadku niezadowalających wyników, testy na innym algorytmie."
   ]
  },
  {
   "cell_type": "code",
   "execution_count": 3,
   "metadata": {},
   "outputs": [],
   "source": [
    "import seaborn as sns\n",
    "import matplotlib.pyplot as plt\n",
    "import pandas as pd\n",
    "pd.options.display.float_format = '{:.3f}'.format\n",
    "pd.set_option('display.max_columns',None)"
   ]
  },
  {
   "cell_type": "code",
   "execution_count": null,
   "metadata": {},
   "outputs": [],
   "source": []
  },
  {
   "cell_type": "markdown",
   "metadata": {},
   "source": [
    "1. Data preprocessing\n",
    "- Pobranie danych\n",
    "- Filtrowanie danych (jaka historia będzie nam potrzebna do modelowania?)."
   ]
  },
  {
   "cell_type": "code",
   "execution_count": 1,
   "metadata": {},
   "outputs": [],
   "source": [
    "import os \n",
    "os.chdir('../')"
   ]
  },
  {
   "cell_type": "code",
   "execution_count": 4,
   "metadata": {},
   "outputs": [],
   "source": [
    "# Wczytanie danych - liczba wypożyczeń\n",
    "df_dep = pd.read_parquet('data/hourly_data_per_station.parquet')\n",
    "df_dep = df_dep[df_dep['departure_date_hours']>='2018-01-01'].reset_index(drop=True)\n"
   ]
  },
  {
   "cell_type": "code",
   "execution_count": 5,
   "metadata": {},
   "outputs": [],
   "source": [
    "# Wczytanie danych - liczba zwrotów\n",
    "df_ret = pd.read_parquet('data/hourly_data_per_station_returns.parquet')\n",
    "df_ret = df_ret[df_ret['return_date_hours']>='2018-01-01'].reset_index(drop=True)"
   ]
  },
  {
   "cell_type": "markdown",
   "metadata": {},
   "source": [
    "- Połączenie danych:\n",
    "    - Jaki powinien być typ połączenia?\n",
    "    - Jak uzupełnić braki danych w kolumnach departure name oraz date?"
   ]
  },
  {
   "cell_type": "code",
   "execution_count": 6,
   "metadata": {},
   "outputs": [],
   "source": [
    "# polaczenie danych\n",
    "df_merged = df_dep.merge(df_ret,\n",
    "                         left_on = ['departure_name','departure_date_hours'],\n",
    "                         right_on=['return_name','return_date_hours'],\n",
    "                         how = 'outer',\n",
    "                         suffixes=('_dep','_ret'))"
   ]
  },
  {
   "cell_type": "code",
   "execution_count": null,
   "metadata": {},
   "outputs": [],
   "source": [
    "# wielkosci poszczegolnych ramek\n",
    "print(df_dep.shape)\n",
    "print(df_ret.shape)\n",
    "print(df_merged.shape)"
   ]
  },
  {
   "cell_type": "code",
   "execution_count": 7,
   "metadata": {},
   "outputs": [
    {
     "data": {
      "text/plain": [
       "departure_name                544085\n",
       "departure_date_hours          544085\n",
       "numbers_of_departures         544085\n",
       "distance (m)_dep              544085\n",
       "duration (sec.)_dep           544085\n",
       "avg_speed (km/h)_dep          544382\n",
       "Air temperature (degC)_dep    546027\n",
       "return_name                   512563\n",
       "return_date_hours             512563\n",
       "number_of_returns             512563\n",
       "distance (m)_ret              512563\n",
       "duration (sec.)_ret           512563\n",
       "avg_speed (km/h)_ret          512926\n",
       "Air temperature (degC)_ret    514659\n",
       "dtype: int64"
      ]
     },
     "execution_count": 7,
     "metadata": {},
     "output_type": "execute_result"
    }
   ],
   "source": [
    "# Wartosci puste\n",
    "df_merged.isna().sum()"
   ]
  },
  {
   "cell_type": "code",
   "execution_count": 8,
   "metadata": {},
   "outputs": [],
   "source": [
    "# imputacja danych - departure name/ date oraz temperature\n",
    "df_merged['departure_name'] = df_merged['departure_name'].fillna(df_merged['return_name'])\n",
    "df_merged['departure_date_hours'] = df_merged['departure_date_hours'].fillna(df_merged['return_date_hours'])\n",
    "df_merged['Air temperature (degC)'] = df_merged['Air temperature (degC)_dep'].fillna(df_merged['Air temperature (degC)_ret'])"
   ]
  },
  {
   "cell_type": "code",
   "execution_count": null,
   "metadata": {},
   "outputs": [],
   "source": [
    "# Sprawdzenie braków danych\n",
    "df_merged.isna().sum()"
   ]
  },
  {
   "cell_type": "code",
   "execution_count": 9,
   "metadata": {},
   "outputs": [],
   "source": [
    "# usuniecie zbędnych kolumn i ramek\n",
    "del df_merged['return_date_hours']\n",
    "del df_merged['return_name']\n",
    "del df_merged['Air temperature (degC)_dep']\n",
    "del df_merged['Air temperature (degC)_ret']\n",
    "del df_ret\n",
    "del df_dep"
   ]
  },
  {
   "cell_type": "markdown",
   "metadata": {},
   "source": [
    "- Wstępne sprawdzenie danych."
   ]
  },
  {
   "cell_type": "code",
   "execution_count": null,
   "metadata": {},
   "outputs": [],
   "source": [
    "# head\n",
    "df_merged.head()"
   ]
  },
  {
   "cell_type": "code",
   "execution_count": null,
   "metadata": {},
   "outputs": [],
   "source": [
    "# info\n",
    "df_merged.info()"
   ]
  },
  {
   "cell_type": "code",
   "execution_count": 11,
   "metadata": {},
   "outputs": [
    {
     "data": {
      "text/html": [
       "<div>\n",
       "<style scoped>\n",
       "    .dataframe tbody tr th:only-of-type {\n",
       "        vertical-align: middle;\n",
       "    }\n",
       "\n",
       "    .dataframe tbody tr th {\n",
       "        vertical-align: top;\n",
       "    }\n",
       "\n",
       "    .dataframe thead th {\n",
       "        text-align: right;\n",
       "    }\n",
       "</style>\n",
       "<table border=\"1\" class=\"dataframe\">\n",
       "  <thead>\n",
       "    <tr style=\"text-align: right;\">\n",
       "      <th></th>\n",
       "      <th>departure_date_hours</th>\n",
       "      <th>numbers_of_departures</th>\n",
       "      <th>distance (m)_dep</th>\n",
       "      <th>duration (sec.)_dep</th>\n",
       "      <th>avg_speed (km/h)_dep</th>\n",
       "      <th>number_of_returns</th>\n",
       "      <th>distance (m)_ret</th>\n",
       "      <th>duration (sec.)_ret</th>\n",
       "      <th>avg_speed (km/h)_ret</th>\n",
       "      <th>Air temperature (degC)</th>\n",
       "    </tr>\n",
       "  </thead>\n",
       "  <tbody>\n",
       "    <tr>\n",
       "      <th>count</th>\n",
       "      <td>2955057</td>\n",
       "      <td>2410972.000</td>\n",
       "      <td>2410972.000</td>\n",
       "      <td>2410972.000</td>\n",
       "      <td>2410675.000</td>\n",
       "      <td>2442494.000</td>\n",
       "      <td>2442494.000</td>\n",
       "      <td>2442494.000</td>\n",
       "      <td>2442131.000</td>\n",
       "      <td>2953142.000</td>\n",
       "    </tr>\n",
       "    <tr>\n",
       "      <th>mean</th>\n",
       "      <td>2019-08-27 12:13:34.770882816</td>\n",
       "      <td>4.207</td>\n",
       "      <td>2216.939</td>\n",
       "      <td>992.561</td>\n",
       "      <td>0.186</td>\n",
       "      <td>4.153</td>\n",
       "      <td>2203.705</td>\n",
       "      <td>1016.668</td>\n",
       "      <td>0.182</td>\n",
       "      <td>14.170</td>\n",
       "    </tr>\n",
       "    <tr>\n",
       "      <th>min</th>\n",
       "      <td>2018-04-03 08:00:00</td>\n",
       "      <td>1.000</td>\n",
       "      <td>-4290278.000</td>\n",
       "      <td>0.000</td>\n",
       "      <td>-205.113</td>\n",
       "      <td>1.000</td>\n",
       "      <td>-2144724.000</td>\n",
       "      <td>0.000</td>\n",
       "      <td>-234.358</td>\n",
       "      <td>-5.200</td>\n",
       "    </tr>\n",
       "    <tr>\n",
       "      <th>25%</th>\n",
       "      <td>2018-10-23 17:00:00</td>\n",
       "      <td>1.000</td>\n",
       "      <td>1302.000</td>\n",
       "      <td>431.500</td>\n",
       "      <td>0.159</td>\n",
       "      <td>1.000</td>\n",
       "      <td>1283.333</td>\n",
       "      <td>430.000</td>\n",
       "      <td>0.157</td>\n",
       "      <td>10.100</td>\n",
       "    </tr>\n",
       "    <tr>\n",
       "      <th>50%</th>\n",
       "      <td>2019-08-13 17:00:00</td>\n",
       "      <td>2.000</td>\n",
       "      <td>1964.170</td>\n",
       "      <td>649.333</td>\n",
       "      <td>0.189</td>\n",
       "      <td>2.000</td>\n",
       "      <td>1958.000</td>\n",
       "      <td>650.400</td>\n",
       "      <td>0.188</td>\n",
       "      <td>14.850</td>\n",
       "    </tr>\n",
       "    <tr>\n",
       "      <th>75%</th>\n",
       "      <td>2020-06-10 08:00:00</td>\n",
       "      <td>5.000</td>\n",
       "      <td>2783.000</td>\n",
       "      <td>914.667</td>\n",
       "      <td>0.217</td>\n",
       "      <td>5.000</td>\n",
       "      <td>2785.000</td>\n",
       "      <td>919.333</td>\n",
       "      <td>0.215</td>\n",
       "      <td>18.300</td>\n",
       "    </tr>\n",
       "    <tr>\n",
       "      <th>max</th>\n",
       "      <td>2020-11-03 00:00:00</td>\n",
       "      <td>217.000</td>\n",
       "      <td>2106675.000</td>\n",
       "      <td>3100714.000</td>\n",
       "      <td>24.380</td>\n",
       "      <td>153.000</td>\n",
       "      <td>2106675.000</td>\n",
       "      <td>1950617.000</td>\n",
       "      <td>19.550</td>\n",
       "      <td>32.900</td>\n",
       "    </tr>\n",
       "    <tr>\n",
       "      <th>std</th>\n",
       "      <td>NaN</td>\n",
       "      <td>5.119</td>\n",
       "      <td>4919.753</td>\n",
       "      <td>6744.542</td>\n",
       "      <td>0.241</td>\n",
       "      <td>5.019</td>\n",
       "      <td>3326.258</td>\n",
       "      <td>6708.934</td>\n",
       "      <td>0.200</td>\n",
       "      <td>5.901</td>\n",
       "    </tr>\n",
       "  </tbody>\n",
       "</table>\n",
       "</div>"
      ],
      "text/plain": [
       "                departure_date_hours  numbers_of_departures  distance (m)_dep  \\\n",
       "count                        2955057            2410972.000       2410972.000   \n",
       "mean   2019-08-27 12:13:34.770882816                  4.207          2216.939   \n",
       "min              2018-04-03 08:00:00                  1.000      -4290278.000   \n",
       "25%              2018-10-23 17:00:00                  1.000          1302.000   \n",
       "50%              2019-08-13 17:00:00                  2.000          1964.170   \n",
       "75%              2020-06-10 08:00:00                  5.000          2783.000   \n",
       "max              2020-11-03 00:00:00                217.000       2106675.000   \n",
       "std                              NaN                  5.119          4919.753   \n",
       "\n",
       "       duration (sec.)_dep  avg_speed (km/h)_dep  number_of_returns  \\\n",
       "count          2410972.000           2410675.000        2442494.000   \n",
       "mean               992.561                 0.186              4.153   \n",
       "min                  0.000              -205.113              1.000   \n",
       "25%                431.500                 0.159              1.000   \n",
       "50%                649.333                 0.189              2.000   \n",
       "75%                914.667                 0.217              5.000   \n",
       "max            3100714.000                24.380            153.000   \n",
       "std               6744.542                 0.241              5.019   \n",
       "\n",
       "       distance (m)_ret  duration (sec.)_ret  avg_speed (km/h)_ret  \\\n",
       "count       2442494.000          2442494.000           2442131.000   \n",
       "mean           2203.705             1016.668                 0.182   \n",
       "min        -2144724.000                0.000              -234.358   \n",
       "25%            1283.333              430.000                 0.157   \n",
       "50%            1958.000              650.400                 0.188   \n",
       "75%            2785.000              919.333                 0.215   \n",
       "max         2106675.000          1950617.000                19.550   \n",
       "std            3326.258             6708.934                 0.200   \n",
       "\n",
       "       Air temperature (degC)  \n",
       "count             2953142.000  \n",
       "mean                   14.170  \n",
       "min                    -5.200  \n",
       "25%                    10.100  \n",
       "50%                    14.850  \n",
       "75%                    18.300  \n",
       "max                    32.900  \n",
       "std                     5.901  "
      ]
     },
     "execution_count": 11,
     "metadata": {},
     "output_type": "execute_result"
    }
   ],
   "source": [
    "# describe\n",
    "df_merged.describe()"
   ]
  },
  {
   "cell_type": "code",
   "execution_count": 10,
   "metadata": {},
   "outputs": [
    {
     "data": {
      "text/html": [
       "<div>\n",
       "<style scoped>\n",
       "    .dataframe tbody tr th:only-of-type {\n",
       "        vertical-align: middle;\n",
       "    }\n",
       "\n",
       "    .dataframe tbody tr th {\n",
       "        vertical-align: top;\n",
       "    }\n",
       "\n",
       "    .dataframe thead th {\n",
       "        text-align: right;\n",
       "    }\n",
       "</style>\n",
       "<table border=\"1\" class=\"dataframe\">\n",
       "  <thead>\n",
       "    <tr style=\"text-align: right;\">\n",
       "      <th></th>\n",
       "      <th>departure_name</th>\n",
       "      <th>departure_date_hours</th>\n",
       "      <th>numbers_of_departures</th>\n",
       "      <th>distance (m)_dep</th>\n",
       "      <th>duration (sec.)_dep</th>\n",
       "      <th>avg_speed (km/h)_dep</th>\n",
       "      <th>number_of_returns</th>\n",
       "      <th>distance (m)_ret</th>\n",
       "      <th>duration (sec.)_ret</th>\n",
       "      <th>avg_speed (km/h)_ret</th>\n",
       "      <th>Air temperature (degC)</th>\n",
       "    </tr>\n",
       "  </thead>\n",
       "  <tbody>\n",
       "    <tr>\n",
       "      <th>1751118</th>\n",
       "      <td>Niittymaa</td>\n",
       "      <td>2019-10-27 20:00:00</td>\n",
       "      <td>3.000</td>\n",
       "      <td>-1429816.667</td>\n",
       "      <td>281.000</td>\n",
       "      <td>-156.228</td>\n",
       "      <td>2.000</td>\n",
       "      <td>1641.500</td>\n",
       "      <td>471.000</td>\n",
       "      <td>0.107</td>\n",
       "      <td>1.900</td>\n",
       "    </tr>\n",
       "    <tr>\n",
       "      <th>1925829</th>\n",
       "      <td>Painiitty</td>\n",
       "      <td>2020-08-20 16:00:00</td>\n",
       "      <td>1.000</td>\n",
       "      <td>-4290278.000</td>\n",
       "      <td>1255.000</td>\n",
       "      <td>-205.113</td>\n",
       "      <td>NaN</td>\n",
       "      <td>NaN</td>\n",
       "      <td>NaN</td>\n",
       "      <td>NaN</td>\n",
       "      <td>21.800</td>\n",
       "    </tr>\n",
       "    <tr>\n",
       "      <th>2019720</th>\n",
       "      <td>Pohjankulma</td>\n",
       "      <td>2020-08-01 00:00:00</td>\n",
       "      <td>2.000</td>\n",
       "      <td>-2143629.500</td>\n",
       "      <td>1424.000</td>\n",
       "      <td>-89.942</td>\n",
       "      <td>NaN</td>\n",
       "      <td>NaN</td>\n",
       "      <td>NaN</td>\n",
       "      <td>NaN</td>\n",
       "      <td>15.500</td>\n",
       "    </tr>\n",
       "    <tr>\n",
       "      <th>2432529</th>\n",
       "      <td>Sörnäinen (M)</td>\n",
       "      <td>2020-07-23 22:00:00</td>\n",
       "      <td>8.000</td>\n",
       "      <td>-535255.375</td>\n",
       "      <td>413.875</td>\n",
       "      <td>-50.711</td>\n",
       "      <td>7.000</td>\n",
       "      <td>2080.429</td>\n",
       "      <td>764.143</td>\n",
       "      <td>0.124</td>\n",
       "      <td>12.900</td>\n",
       "    </tr>\n",
       "    <tr>\n",
       "      <th>2759127</th>\n",
       "      <td>Valimotie</td>\n",
       "      <td>2020-07-17 17:00:00</td>\n",
       "      <td>12.000</td>\n",
       "      <td>-355391.417</td>\n",
       "      <td>736.500</td>\n",
       "      <td>-12.819</td>\n",
       "      <td>7.000</td>\n",
       "      <td>1290.571</td>\n",
       "      <td>405.714</td>\n",
       "      <td>0.136</td>\n",
       "      <td>23.700</td>\n",
       "    </tr>\n",
       "    <tr>\n",
       "      <th>2820296</th>\n",
       "      <td>Velodrominrinne</td>\n",
       "      <td>2018-10-15 19:00:00</td>\n",
       "      <td>2.000</td>\n",
       "      <td>-2141771.500</td>\n",
       "      <td>956.000</td>\n",
       "      <td>-142.006</td>\n",
       "      <td>2.000</td>\n",
       "      <td>3204.500</td>\n",
       "      <td>962.000</td>\n",
       "      <td>0.200</td>\n",
       "      <td>12.650</td>\n",
       "    </tr>\n",
       "    <tr>\n",
       "      <th>2851333</th>\n",
       "      <td>Verkatehtaanpuisto</td>\n",
       "      <td>2020-07-04 12:00:00</td>\n",
       "      <td>1.000</td>\n",
       "      <td>-4289957.000</td>\n",
       "      <td>1362.000</td>\n",
       "      <td>-188.985</td>\n",
       "      <td>NaN</td>\n",
       "      <td>NaN</td>\n",
       "      <td>NaN</td>\n",
       "      <td>NaN</td>\n",
       "      <td>16.400</td>\n",
       "    </tr>\n",
       "  </tbody>\n",
       "</table>\n",
       "</div>"
      ],
      "text/plain": [
       "             departure_name departure_date_hours  numbers_of_departures  \\\n",
       "1751118           Niittymaa  2019-10-27 20:00:00                  3.000   \n",
       "1925829           Painiitty  2020-08-20 16:00:00                  1.000   \n",
       "2019720         Pohjankulma  2020-08-01 00:00:00                  2.000   \n",
       "2432529       Sörnäinen (M)  2020-07-23 22:00:00                  8.000   \n",
       "2759127           Valimotie  2020-07-17 17:00:00                 12.000   \n",
       "2820296     Velodrominrinne  2018-10-15 19:00:00                  2.000   \n",
       "2851333  Verkatehtaanpuisto  2020-07-04 12:00:00                  1.000   \n",
       "\n",
       "         distance (m)_dep  duration (sec.)_dep  avg_speed (km/h)_dep  \\\n",
       "1751118      -1429816.667              281.000              -156.228   \n",
       "1925829      -4290278.000             1255.000              -205.113   \n",
       "2019720      -2143629.500             1424.000               -89.942   \n",
       "2432529       -535255.375              413.875               -50.711   \n",
       "2759127       -355391.417              736.500               -12.819   \n",
       "2820296      -2141771.500              956.000              -142.006   \n",
       "2851333      -4289957.000             1362.000              -188.985   \n",
       "\n",
       "         number_of_returns  distance (m)_ret  duration (sec.)_ret  \\\n",
       "1751118              2.000          1641.500              471.000   \n",
       "1925829                NaN               NaN                  NaN   \n",
       "2019720                NaN               NaN                  NaN   \n",
       "2432529              7.000          2080.429              764.143   \n",
       "2759127              7.000          1290.571              405.714   \n",
       "2820296              2.000          3204.500              962.000   \n",
       "2851333                NaN               NaN                  NaN   \n",
       "\n",
       "         avg_speed (km/h)_ret  Air temperature (degC)  \n",
       "1751118                 0.107                   1.900  \n",
       "1925829                   NaN                  21.800  \n",
       "2019720                   NaN                  15.500  \n",
       "2432529                 0.124                  12.900  \n",
       "2759127                 0.136                  23.700  \n",
       "2820296                 0.200                  12.650  \n",
       "2851333                   NaN                  16.400  "
      ]
     },
     "execution_count": 10,
     "metadata": {},
     "output_type": "execute_result"
    }
   ],
   "source": [
    "# Sprawdzenie niepoprawnych wartosci\n",
    "df_merged[df_merged['distance (m)_dep']<0]"
   ]
  },
  {
   "cell_type": "code",
   "execution_count": 12,
   "metadata": {},
   "outputs": [
    {
     "data": {
      "text/plain": [
       "1751118   -156.228\n",
       "1925829   -205.113\n",
       "2019720    -89.942\n",
       "2432529    -50.711\n",
       "2759127    -12.819\n",
       "2820296   -142.006\n",
       "2851333   -188.985\n",
       "Name: avg_speed (km/h)_dep, dtype: float64"
      ]
     },
     "execution_count": 12,
     "metadata": {},
     "output_type": "execute_result"
    }
   ],
   "source": [
    "df_merged.loc[df_merged['avg_speed (km/h)_dep']<0,'avg_speed (km/h)_dep']"
   ]
  },
  {
   "cell_type": "code",
   "execution_count": 13,
   "metadata": {},
   "outputs": [
    {
     "data": {
      "text/plain": [
       "426349    -2142811.500\n",
       "644555     -475758.889\n",
       "737509     -388698.091\n",
       "1261469   -1069230.250\n",
       "1266063   -2143244.000\n",
       "1442165   -2144724.000\n",
       "2478683    -855928.000\n",
       "Name: distance (m)_ret, dtype: float64"
      ]
     },
     "execution_count": 13,
     "metadata": {},
     "output_type": "execute_result"
    }
   ],
   "source": [
    "df_merged.loc[df_merged['distance (m)_ret']<0,'distance (m)_ret']"
   ]
  },
  {
   "cell_type": "code",
   "execution_count": 14,
   "metadata": {},
   "outputs": [
    {
     "data": {
      "text/plain": [
       "426349    -142.001\n",
       "644555     -45.071\n",
       "737509     -13.963\n",
       "1261469    -44.876\n",
       "1266063    -94.360\n",
       "1442165   -234.358\n",
       "2478683    -40.867\n",
       "Name: avg_speed (km/h)_ret, dtype: float64"
      ]
     },
     "execution_count": 14,
     "metadata": {},
     "output_type": "execute_result"
    }
   ],
   "source": [
    "df_merged.loc[df_merged['avg_speed (km/h)_ret']<0,'avg_speed (km/h)_ret']"
   ]
  },
  {
   "cell_type": "code",
   "execution_count": 15,
   "metadata": {},
   "outputs": [],
   "source": [
    "# zastąpienie niepoprawnych wartości średnią\n",
    "df_merged.loc[df_merged['distance (m)_dep']<0,'distance (m)_dep'] = df_merged.loc[df_merged['distance (m)_dep']>0,'distance (m)_dep'].mean()\n",
    "df_merged.loc[df_merged['avg_speed (km/h)_dep']<0,'avg_speed (km/h)_dep'] = df_merged.loc[df_merged['avg_speed (km/h)_dep']>0,'avg_speed (km/h)_dep'].mean()\n",
    "df_merged.loc[df_merged['distance (m)_ret']<0,'distance (m)_ret'] = df_merged.loc[df_merged['distance (m)_ret']>0,'distance (m)_ret'].mean()\n",
    "df_merged.loc[df_merged['avg_speed (km/h)_ret']<0,'avg_speed (km/h)_ret'] = df_merged.loc[df_merged['avg_speed (km/h)_ret']>0,'avg_speed (km/h)_ret'].mean()"
   ]
  },
  {
   "cell_type": "code",
   "execution_count": null,
   "metadata": {},
   "outputs": [],
   "source": []
  },
  {
   "cell_type": "code",
   "execution_count": null,
   "metadata": {},
   "outputs": [],
   "source": [
    "# zastąpienie niepoprawnych wartości średnią\n"
   ]
  },
  {
   "cell_type": "markdown",
   "metadata": {},
   "source": [
    "- Resampling danych na dane godzinowe."
   ]
  },
  {
   "cell_type": "code",
   "execution_count": null,
   "metadata": {},
   "outputs": [],
   "source": [
    "# resample\n",
    "df_merged = df_merged.set_index('departure_date_hours').groupby('departure_name').resample('h').mean().reset_index()"
   ]
  },
  {
   "cell_type": "code",
   "execution_count": null,
   "metadata": {},
   "outputs": [],
   "source": [
    "df_merged.shape"
   ]
  },
  {
   "cell_type": "code",
   "execution_count": null,
   "metadata": {},
   "outputs": [],
   "source": [
    "# uzupełnienie braków danych\n",
    "df_merged['Air temperature (degC)'] = df_merged['Air temperature (degC)'].fillna(-999)\n",
    "df_merged =df_merged.fillna(0)"
   ]
  },
  {
   "cell_type": "code",
   "execution_count": null,
   "metadata": {},
   "outputs": [],
   "source": [
    "# konwersja float na int\n",
    "df_merged[['numbers_of_departures','number_of_returns']] = df_merged[['numbers_of_departures','number_of_returns']].astype(int)"
   ]
  },
  {
   "cell_type": "code",
   "execution_count": null,
   "metadata": {},
   "outputs": [],
   "source": [
    "df_merged.info()"
   ]
  },
  {
   "cell_type": "markdown",
   "metadata": {},
   "source": [
    "- Stworzenie nowej zmiennej kategorycznej (y): Czy liczba wypożyczeń w bieżącej godzinie jest większa niż liczba zwrotów."
   ]
  },
  {
   "cell_type": "code",
   "execution_count": null,
   "metadata": {},
   "outputs": [],
   "source": [
    "# zmienna y kategoryczna\n",
    "df_merged['y_cat'] = ((df_merged['numbers_of_departures']-1)> df_merged['number_of_returns']).astype(int)"
   ]
  },
  {
   "cell_type": "code",
   "execution_count": null,
   "metadata": {},
   "outputs": [],
   "source": [
    "# udział wartosci y\n",
    "df_merged['y_cat'].value_counts() / df_merged.shape[0]"
   ]
  },
  {
   "cell_type": "markdown",
   "metadata": {},
   "source": [
    "  - Stworzenie zmiennych z daty: godzina, dzien, miesiąc, kwartał."
   ]
  },
  {
   "cell_type": "code",
   "execution_count": null,
   "metadata": {},
   "outputs": [],
   "source": [
    "df_merged['hours'] = df_merged['departure_date_hours'].dt.hour\n",
    "df_merged['day'] = df_merged['departure_date_hours'].dt.day\n",
    "df_merged['month'] = df_merged['departure_date_hours'].dt.month\n",
    "df_merged['quarter'] = df_merged['departure_date_hours'].dt.quarter"
   ]
  },
  {
   "cell_type": "markdown",
   "metadata": {},
   "source": [
    " - Enkoding zmiennej departure name"
   ]
  },
  {
   "cell_type": "code",
   "execution_count": null,
   "metadata": {},
   "outputs": [],
   "source": [
    "from sklearn.preprocessing import OrdinalEncoder"
   ]
  },
  {
   "cell_type": "code",
   "execution_count": null,
   "metadata": {},
   "outputs": [],
   "source": [
    "# obiekt ordinalencoder\n",
    "oe = OrdinalEncoder().fit(df_merged[['departure_name']])"
   ]
  },
  {
   "cell_type": "code",
   "execution_count": null,
   "metadata": {},
   "outputs": [],
   "source": [
    "# dodanie zmiennej enkodowanej\n",
    "df_merged['departure_name_encoded'] = oe.transform(df_merged[['departure_name']]).astype(int)"
   ]
  },
  {
   "cell_type": "code",
   "execution_count": null,
   "metadata": {},
   "outputs": [],
   "source": [
    "# sprawdzenie - head\n",
    "df_merged.head()"
   ]
  },
  {
   "cell_type": "markdown",
   "metadata": {},
   "source": [
    "- Stworzenie lagów (wartości z poprzednich okresów):\n",
    "    - Wartości dla danej stacji z poprzednich godzin / dni\n",
    "    - Zastanów się nad innymi przekształceniami i agregacjami zmiennych.\n",
    "    - Stwórz funkcję do przygotowania zmiennych."
   ]
  },
  {
   "cell_type": "code",
   "execution_count": null,
   "metadata": {},
   "outputs": [],
   "source": [
    "# pobranie stworzonych funkcji\n",
    "from help_function import lag_n"
   ]
  },
  {
   "cell_type": "code",
   "execution_count": null,
   "metadata": {},
   "outputs": [],
   "source": [
    "df_merged.columns"
   ]
  },
  {
   "cell_type": "code",
   "execution_count": null,
   "metadata": {},
   "outputs": [],
   "source": [
    "# nazwy kolumn do lagów\n",
    "lag_cols = ['numbers_of_departures',\n",
    "       'distance (m)_dep', 'duration (sec.)_dep', 'avg_speed (km/h)_dep',\n",
    "       'number_of_returns', 'distance (m)_ret', 'duration (sec.)_ret',\n",
    "       'avg_speed (km/h)_ret', 'Air temperature (degC)', 'y_cat']"
   ]
  },
  {
   "cell_type": "code",
   "execution_count": null,
   "metadata": {},
   "outputs": [],
   "source": [
    "# Stworzenie różnych lagów\n",
    "for i in [1,2,3,6,9,12,24]:\n",
    "    df_merged = lag_n(df = df_merged,\n",
    "                      group_col='departure_name',\n",
    "                      lag_cols=lag_cols,\n",
    "                      sort_by='departure_date_hours',\n",
    "                      lag_number=i)"
   ]
  },
  {
   "cell_type": "code",
   "execution_count": null,
   "metadata": {},
   "outputs": [],
   "source": [
    "# Zastąpienie braków danych w temperaturze, wartością sprzed godziny\n",
    "df_merged.loc[df_merged['Air temperature (degC)']==-999,'Air temperature (degC)'] = df_merged.loc[df_merged['Air temperature (degC)']==-999,\n",
    "                                                                                                  'Air temperature (degC)_lag_1']"
   ]
  },
  {
   "cell_type": "code",
   "execution_count": null,
   "metadata": {},
   "outputs": [],
   "source": [
    "# Zastąpienie braków danych w temperaturze, wartością sprzed 2 godzin\n",
    "df_merged.loc[df_merged['Air temperature (degC)']==-999,'Air temperature (degC)'] = df_merged.loc[df_merged['Air temperature (degC)']==-999,\n",
    "                                                                                                  'Air temperature (degC)_lag_2']"
   ]
  },
  {
   "cell_type": "code",
   "execution_count": null,
   "metadata": {},
   "outputs": [],
   "source": [
    "# Stworzenie funkcji prepare data, która przetworzy ramkę danych i doda do niej wymagane zmienne do późniejszej predykcji modelu\n",
    "def prepare_data(df,lag_cols):\n",
    "    df = df.set_index('departure_date_hours').groupby('departure_name').resample('h').mean().reset_index()\n",
    "    df['Air temperature (degC)'] = df['Air temperature (degC)'].fillna(-999)\n",
    "    df =df.fillna(0)\n",
    "    df['y_cat'] = ((df['numbers_of_departures']-1)> df['number_of_returns']).astype(int)\n",
    "    if not set(lag_cols).issubset(df.columns):\n",
    "        raise KeyError('Given dataframe does not contain required fields.')\n",
    "    df['hour'] = df['departure_date_hours'].dt.hour\n",
    "    df['day'] = df['departure_date_hours'].dt.day\n",
    "    df['month'] = df['departure_date_hours'].dt.month\n",
    "    df['quarter'] = df['departure_date_hours'].dt.quarter\n",
    "    for i in [1,2,3,6,9,12,24]:\n",
    "        df = lag_n(df = df,\n",
    "                      group_col='departure_name',\n",
    "                      lag_cols=lag_cols,\n",
    "                      sort_by='departure_date_hours',\n",
    "                      lag_number=i)\n",
    "    df.loc[df['Air temperature (degC)']==-999,'Air temperature (degC)'] = df.loc[df['Air temperature (degC)']==-999,\n",
    "                                                                                                  'Air temperature (degC)_lag_1']\n",
    "    df.loc[df['Air temperature (degC)']==-999,'Air temperature (degC)'] = df.loc[df['Air temperature (degC)']==-999,\n",
    "                                                                                                  'Air temperature (degC)_lag_2']\n",
    "    return df\n",
    "    "
   ]
  },
  {
   "cell_type": "code",
   "execution_count": null,
   "metadata": {},
   "outputs": [
    {
     "data": {
      "text/plain": [
       "Index(['departure_name', 'departure_date_hours', 'numbers_of_departures',\n",
       "       'distance (m)_dep', 'duration (sec.)_dep', 'avg_speed (km/h)_dep',\n",
       "       'number_of_returns', 'distance (m)_ret', 'duration (sec.)_ret',\n",
       "       'avg_speed (km/h)_ret', 'Air temperature (degC)', 'y_cat', 'hours',\n",
       "       'day', 'month', 'quarter', 'departure_name_encoded',\n",
       "       'numbers_of_departures_lag_1', 'distance (m)_dep_lag_1',\n",
       "       'duration (sec.)_dep_lag_1', 'avg_speed (km/h)_dep_lag_1',\n",
       "       'number_of_returns_lag_1', 'distance (m)_ret_lag_1',\n",
       "       'duration (sec.)_ret_lag_1', 'avg_speed (km/h)_ret_lag_1',\n",
       "       'Air temperature (degC)_lag_1', 'y_cat_lag_1',\n",
       "       'numbers_of_departures_lag_2', 'distance (m)_dep_lag_2',\n",
       "       'duration (sec.)_dep_lag_2', 'avg_speed (km/h)_dep_lag_2',\n",
       "       'number_of_returns_lag_2', 'distance (m)_ret_lag_2',\n",
       "       'duration (sec.)_ret_lag_2', 'avg_speed (km/h)_ret_lag_2',\n",
       "       'Air temperature (degC)_lag_2', 'y_cat_lag_2',\n",
       "       'numbers_of_departures_lag_3', 'distance (m)_dep_lag_3',\n",
       "       'duration (sec.)_dep_lag_3', 'avg_speed (km/h)_dep_lag_3',\n",
       "       'number_of_returns_lag_3', 'distance (m)_ret_lag_3',\n",
       "       'duration (sec.)_ret_lag_3', 'avg_speed (km/h)_ret_lag_3',\n",
       "       'Air temperature (degC)_lag_3', 'y_cat_lag_3',\n",
       "       'numbers_of_departures_lag_6', 'distance (m)_dep_lag_6',\n",
       "       'duration (sec.)_dep_lag_6', 'avg_speed (km/h)_dep_lag_6',\n",
       "       'number_of_returns_lag_6', 'distance (m)_ret_lag_6',\n",
       "       'duration (sec.)_ret_lag_6', 'avg_speed (km/h)_ret_lag_6',\n",
       "       'Air temperature (degC)_lag_6', 'y_cat_lag_6',\n",
       "       'numbers_of_departures_lag_9', 'distance (m)_dep_lag_9',\n",
       "       'duration (sec.)_dep_lag_9', 'avg_speed (km/h)_dep_lag_9',\n",
       "       'number_of_returns_lag_9', 'distance (m)_ret_lag_9',\n",
       "       'duration (sec.)_ret_lag_9', 'avg_speed (km/h)_ret_lag_9',\n",
       "       'Air temperature (degC)_lag_9', 'y_cat_lag_9',\n",
       "       'numbers_of_departures_lag_12', 'distance (m)_dep_lag_12',\n",
       "       'duration (sec.)_dep_lag_12', 'avg_speed (km/h)_dep_lag_12',\n",
       "       'number_of_returns_lag_12', 'distance (m)_ret_lag_12',\n",
       "       'duration (sec.)_ret_lag_12', 'avg_speed (km/h)_ret_lag_12',\n",
       "       'Air temperature (degC)_lag_12', 'y_cat_lag_12',\n",
       "       'numbers_of_departures_lag_24', 'distance (m)_dep_lag_24',\n",
       "       'duration (sec.)_dep_lag_24', 'avg_speed (km/h)_dep_lag_24',\n",
       "       'number_of_returns_lag_24', 'distance (m)_ret_lag_24',\n",
       "       'duration (sec.)_ret_lag_24', 'avg_speed (km/h)_ret_lag_24',\n",
       "       'Air temperature (degC)_lag_24', 'y_cat_lag_24'],\n",
       "      dtype='object')"
      ]
     },
     "execution_count": 23,
     "metadata": {},
     "output_type": "execute_result"
    }
   ],
   "source": [
    "df_merged.columns"
   ]
  },
  {
   "cell_type": "code",
   "execution_count": null,
   "metadata": {},
   "outputs": [],
   "source": [
    "# wywołanie funkcji"
   ]
  },
  {
   "cell_type": "code",
   "execution_count": null,
   "metadata": {},
   "outputs": [],
   "source": []
  },
  {
   "cell_type": "code",
   "execution_count": null,
   "metadata": {},
   "outputs": [],
   "source": []
  },
  {
   "cell_type": "code",
   "execution_count": null,
   "metadata": {},
   "outputs": [],
   "source": []
  },
  {
   "cell_type": "code",
   "execution_count": null,
   "metadata": {},
   "outputs": [],
   "source": []
  },
  {
   "cell_type": "code",
   "execution_count": null,
   "metadata": {},
   "outputs": [],
   "source": [
    "# wywołanie funkcji\n",
    "df_merged_2 = prepare_data(df_merged[['departure_name', 'departure_date_hours', 'numbers_of_departures',\n",
    "       'distance (m)_dep', 'duration (sec.)_dep', 'avg_speed (km/h)_dep',\n",
    "       'number_of_returns', 'distance (m)_ret', 'duration (sec.)_ret',\n",
    "       'avg_speed (km/h)_ret', 'Air temperature (degC)', 'y_cat', 'hours',\n",
    "       'day', 'month', 'quarter', 'departure_name_encoded']],lag_cols = lag_cols)"
   ]
  },
  {
   "cell_type": "code",
   "execution_count": null,
   "metadata": {},
   "outputs": [],
   "source": [
    "# head\n",
    "df_merged_2.tail()"
   ]
  },
  {
   "cell_type": "code",
   "execution_count": null,
   "metadata": {},
   "outputs": [],
   "source": [
    "# shape\n",
    "print(df_merged.shape)\n",
    "print(df_merged_2.shape)"
   ]
  },
  {
   "cell_type": "code",
   "execution_count": null,
   "metadata": {},
   "outputs": [],
   "source": [
    "# sprawdzenie listy kolumn\n",
    "df_merged_2.columns == df_merged.columns"
   ]
  },
  {
   "cell_type": "code",
   "execution_count": null,
   "metadata": {},
   "outputs": [],
   "source": [
    "# wybranie 1 stacji\n",
    "st = df_merged.departure_name.unique()[0]"
   ]
  },
  {
   "cell_type": "code",
   "execution_count": null,
   "metadata": {},
   "outputs": [],
   "source": [
    "# Sprawdzenie metryk dla 1 stacji\n",
    "df_merged[df_merged['departure_name']==st].sort_values('departure_date_hours').head(20)"
   ]
  },
  {
   "cell_type": "code",
   "execution_count": null,
   "metadata": {},
   "outputs": [],
   "source": [
    "# usuniecie jednej ramki \n",
    "del df_merged_2"
   ]
  },
  {
   "cell_type": "markdown",
   "metadata": {},
   "source": [
    "- Filtrowanie zbioru:\n",
    "    - Czy potrzebujemy mieć wszystkie miesiące?\n",
    "    - Czy model będzie działać o każdej porze dnia?\n",
    "    - Czy chcemy modelować wszystkie stacje?"
   ]
  },
  {
   "cell_type": "code",
   "execution_count": null,
   "metadata": {},
   "outputs": [],
   "source": [
    "# stworzenie daty z dokładnoscia do dnia\n",
    "df_merged['departure_date'] = pd.to_datetime(df_merged['departure_date_hours'].dt.date)"
   ]
  },
  {
   "cell_type": "code",
   "execution_count": null,
   "metadata": {},
   "outputs": [],
   "source": [
    "# liczba wypożyczeń według miesięcy\n",
    "df_merged.groupby('month')['numbers_of_departures'].sum()"
   ]
  },
  {
   "cell_type": "code",
   "execution_count": null,
   "metadata": {},
   "outputs": [],
   "source": [
    "# Wybranie miesięcy z \"wysokiego\" sezonu\n",
    "df_merged = df_merged[df_merged.month.isin([5,6,7,8,9])]"
   ]
  },
  {
   "cell_type": "code",
   "execution_count": null,
   "metadata": {},
   "outputs": [],
   "source": [
    "# liczba wypożyczeń według departure_date_hours\n",
    "hours = df_merged.groupby('departure_date_hours')['numbers_of_departures'].sum().reset_index()"
   ]
  },
  {
   "cell_type": "code",
   "execution_count": null,
   "metadata": {},
   "outputs": [],
   "source": [
    "# wyciągnięcie godziny\n",
    "hours['hour'] = hours['departure_date_hours'].dt.hour"
   ]
  },
  {
   "cell_type": "code",
   "execution_count": null,
   "metadata": {},
   "outputs": [],
   "source": [
    "# średnia liczba wypożyczeń per godzina\n",
    "hours.groupby('hour').mean()"
   ]
  },
  {
   "cell_type": "code",
   "execution_count": null,
   "metadata": {},
   "outputs": [],
   "source": [
    "df_merged['hour'] = df_merged['hours'].copy()\n",
    "del df_merged['hours']"
   ]
  },
  {
   "cell_type": "code",
   "execution_count": null,
   "metadata": {},
   "outputs": [],
   "source": [
    "# odfiltrowanie nieistotnych godzin\n",
    "df_merged = df_merged[(df_merged['hour']>=8) & (df_merged['hour']<=22)].reset_index(drop=True)"
   ]
  },
  {
   "cell_type": "code",
   "execution_count": null,
   "metadata": {},
   "outputs": [],
   "source": [
    "# minimalna data dla każdej stacji\n",
    "min_date = df_merged.groupby('departure_name')['departure_date'].agg(['min','max']).reset_index().rename(\n",
    "    columns = {'min': 'min_date',\n",
    "               'max': 'max_date'}\n",
    ")"
   ]
  },
  {
   "cell_type": "code",
   "execution_count": null,
   "metadata": {},
   "outputs": [],
   "source": [
    "min_date.head()"
   ]
  },
  {
   "cell_type": "code",
   "execution_count": null,
   "metadata": {},
   "outputs": [],
   "source": [
    "min_date.info()"
   ]
  },
  {
   "cell_type": "code",
   "execution_count": null,
   "metadata": {},
   "outputs": [],
   "source": [
    "# stacje do odrzucenia \n",
    "stations_to_excluude = min_date[(min_date['min_date']>='2020-01-01') | (min_date['max_date']<'2020-01-01')]['departure_name'].values\n",
    "stations_to_excluude"
   ]
  },
  {
   "cell_type": "code",
   "execution_count": null,
   "metadata": {},
   "outputs": [],
   "source": [
    "# filtrowanie\n",
    "df_merged = df_merged[~(df_merged['departure_name'].isin(stations_to_excluude))].reset_index(drop=True)\n",
    "df_merged.shape"
   ]
  },
  {
   "cell_type": "code",
   "execution_count": null,
   "metadata": {},
   "outputs": [],
   "source": []
  },
  {
   "cell_type": "code",
   "execution_count": null,
   "metadata": {},
   "outputs": [],
   "source": [
    "# dodanie min date do danych\n",
    "df_merged = df_merged.merge(min_date,on ='departure_name')"
   ]
  },
  {
   "cell_type": "code",
   "execution_count": null,
   "metadata": {},
   "outputs": [],
   "source": [
    "#usuniecie pierwszego dnia danych\n",
    "df_merged = df_merged[df_merged['departure_date']>df_merged['min_date']].reset_index(drop=True)"
   ]
  },
  {
   "cell_type": "code",
   "execution_count": null,
   "metadata": {},
   "outputs": [],
   "source": [
    "df_merged = df_merged.dropna()"
   ]
  },
  {
   "cell_type": "code",
   "execution_count": null,
   "metadata": {},
   "outputs": [],
   "source": [
    "df_merged.shape"
   ]
  },
  {
   "cell_type": "markdown",
   "metadata": {},
   "source": [
    "- Selekcja zmiennych"
   ]
  },
  {
   "cell_type": "code",
   "execution_count": null,
   "metadata": {},
   "outputs": [],
   "source": [
    "from sklearn.tree import DecisionTreeClassifier"
   ]
  },
  {
   "cell_type": "code",
   "execution_count": null,
   "metadata": {},
   "outputs": [],
   "source": [
    "# kolumny w ramce danych\n",
    "df_merged.columns"
   ]
  },
  {
   "cell_type": "code",
   "execution_count": null,
   "metadata": {},
   "outputs": [],
   "source": [
    "# potencjalna lista zmiennych\n",
    "potential_x_names = [\n",
    "        'day',\n",
    "       'month', 'quarter', 'departure_name_encoded',\n",
    "       'numbers_of_departures_lag_1', 'distance (m)_dep_lag_1',\n",
    "       'duration (sec.)_dep_lag_1', 'avg_speed (km/h)_dep_lag_1',\n",
    "       'number_of_returns_lag_1', 'distance (m)_ret_lag_1',\n",
    "       'duration (sec.)_ret_lag_1', 'avg_speed (km/h)_ret_lag_1',\n",
    "       'Air temperature (degC)_lag_1', 'y_cat_lag_1',\n",
    "       'numbers_of_departures_lag_2', 'distance (m)_dep_lag_2',\n",
    "       'duration (sec.)_dep_lag_2', 'avg_speed (km/h)_dep_lag_2',\n",
    "       'number_of_returns_lag_2', 'distance (m)_ret_lag_2',\n",
    "       'duration (sec.)_ret_lag_2', 'avg_speed (km/h)_ret_lag_2',\n",
    "       'Air temperature (degC)_lag_2', 'y_cat_lag_2',\n",
    "       'numbers_of_departures_lag_3', 'distance (m)_dep_lag_3',\n",
    "       'duration (sec.)_dep_lag_3', 'avg_speed (km/h)_dep_lag_3',\n",
    "       'number_of_returns_lag_3', 'distance (m)_ret_lag_3',\n",
    "       'duration (sec.)_ret_lag_3', 'avg_speed (km/h)_ret_lag_3',\n",
    "       'Air temperature (degC)_lag_3', 'y_cat_lag_3',\n",
    "       'numbers_of_departures_lag_6', 'distance (m)_dep_lag_6',\n",
    "       'duration (sec.)_dep_lag_6', 'avg_speed (km/h)_dep_lag_6',\n",
    "       'number_of_returns_lag_6', 'distance (m)_ret_lag_6',\n",
    "       'duration (sec.)_ret_lag_6', 'avg_speed (km/h)_ret_lag_6',\n",
    "       'Air temperature (degC)_lag_6', 'y_cat_lag_6',\n",
    "       'numbers_of_departures_lag_9', 'distance (m)_dep_lag_9',\n",
    "       'duration (sec.)_dep_lag_9', 'avg_speed (km/h)_dep_lag_9',\n",
    "       'number_of_returns_lag_9', 'distance (m)_ret_lag_9',\n",
    "       'duration (sec.)_ret_lag_9', 'avg_speed (km/h)_ret_lag_9',\n",
    "       'Air temperature (degC)_lag_9', 'y_cat_lag_9',\n",
    "       'numbers_of_departures_lag_12', 'distance (m)_dep_lag_12',\n",
    "       'duration (sec.)_dep_lag_12', 'avg_speed (km/h)_dep_lag_12',\n",
    "       'number_of_returns_lag_12', 'distance (m)_ret_lag_12',\n",
    "       'duration (sec.)_ret_lag_12', 'avg_speed (km/h)_ret_lag_12',\n",
    "       'Air temperature (degC)_lag_12', 'y_cat_lag_12',\n",
    "       'numbers_of_departures_lag_24', 'distance (m)_dep_lag_24',\n",
    "       'duration (sec.)_dep_lag_24', 'avg_speed (km/h)_dep_lag_24',\n",
    "       'number_of_returns_lag_24', 'distance (m)_ret_lag_24',\n",
    "       'duration (sec.)_ret_lag_24', 'avg_speed (km/h)_ret_lag_24',\n",
    "       'Air temperature (degC)_lag_24', 'y_cat_lag_24', \n",
    "       'hour'\n",
    "]"
   ]
  },
  {
   "cell_type": "code",
   "execution_count": null,
   "metadata": {},
   "outputs": [],
   "source": [
    "len(potential_x_names)"
   ]
  },
  {
   "cell_type": "code",
   "execution_count": null,
   "metadata": {},
   "outputs": [],
   "source": [
    "# model bazowy - drzewo decyzyjne\n",
    "model_base = DecisionTreeClassifier(max_depth=7, random_state=123).fit(df_merged[potential_x_names],df_merged['y_cat'])"
   ]
  },
  {
   "cell_type": "code",
   "execution_count": null,
   "metadata": {},
   "outputs": [],
   "source": []
  },
  {
   "cell_type": "code",
   "execution_count": null,
   "metadata": {},
   "outputs": [],
   "source": [
    "pd.options.display.float_format = '{:.4f}'.format"
   ]
  },
  {
   "cell_type": "code",
   "execution_count": null,
   "metadata": {},
   "outputs": [],
   "source": [
    "# feature importance\n",
    "model_base.feature_importances_"
   ]
  },
  {
   "cell_type": "code",
   "execution_count": null,
   "metadata": {},
   "outputs": [],
   "source": [
    "# liczba zmiennych, które nie były użyte\n",
    "(model_base.feature_importances_==0).sum()"
   ]
  },
  {
   "cell_type": "code",
   "execution_count": null,
   "metadata": {},
   "outputs": [],
   "source": [
    "# lista finalnych zmiennych\n",
    "x_names = model_base.feature_names_in_[model_base.feature_importances_>0]\n",
    "x_names\n"
   ]
  },
  {
   "cell_type": "code",
   "execution_count": null,
   "metadata": {},
   "outputs": [],
   "source": [
    "# describe wytypowanych zmiennych\n",
    "df_merged[x_names].describe()"
   ]
  },
  {
   "cell_type": "code",
   "execution_count": null,
   "metadata": {},
   "outputs": [],
   "source": [
    "# korelacja\n",
    "df_merged[list(x_names)+['y_cat']].corr(method='spearman')['y_cat']"
   ]
  },
  {
   "cell_type": "code",
   "execution_count": null,
   "metadata": {},
   "outputs": [],
   "source": [
    "# przykladowy wykres gestosci\n",
    "sns.kdeplot(data=df_merged, x='numbers_of_departures_lag_1',hue= 'y_cat')\n",
    "plt.show()"
   ]
  },
  {
   "cell_type": "markdown",
   "metadata": {},
   "source": [
    "- Detekcja outlierów."
   ]
  },
  {
   "cell_type": "code",
   "execution_count": null,
   "metadata": {},
   "outputs": [],
   "source": [
    "from sklearn.ensemble import IsolationForest"
   ]
  },
  {
   "cell_type": "code",
   "execution_count": null,
   "metadata": {},
   "outputs": [],
   "source": [
    "# Definicja obiektu\n",
    "iso_forest = IsolationForest(bootstrap=True,random_state=123)\n"
   ]
  },
  {
   "cell_type": "code",
   "execution_count": null,
   "metadata": {},
   "outputs": [],
   "source": [
    "# fit\n",
    "iso_forest.fit(df_merged[x_names[1:]])"
   ]
  },
  {
   "cell_type": "code",
   "execution_count": null,
   "metadata": {},
   "outputs": [],
   "source": [
    "# predykcja outlierów\n",
    "is_outlier = iso_forest.predict(df_merged[x_names[1:]])"
   ]
  },
  {
   "cell_type": "code",
   "execution_count": null,
   "metadata": {},
   "outputs": [],
   "source": [
    "# udział\n",
    "pd.Series(is_outlier).value_counts()/ len(df_merged)"
   ]
  },
  {
   "cell_type": "code",
   "execution_count": null,
   "metadata": {},
   "outputs": [],
   "source": [
    "# dodanie outlierow do danych\n",
    "df_merged['outlier'] = is_outlier\n"
   ]
  },
  {
   "cell_type": "markdown",
   "metadata": {},
   "source": [
    "2. Optymalizacja modelu:\n",
    "    - Wykorzystanie jednego z poznanych algorytmów optymalizacyjnych.\n",
    "    - W przypadku niezadowalających wyników, testy na innym algorytmie."
   ]
  },
  {
   "cell_type": "code",
   "execution_count": null,
   "metadata": {},
   "outputs": [],
   "source": [
    "# Daty graniczne train/test/valid\n",
    "date_train = '2020-01-01'\n",
    "date_test = '2020-07-15'"
   ]
  },
  {
   "cell_type": "code",
   "execution_count": null,
   "metadata": {},
   "outputs": [],
   "source": [
    "# Usunięcie outliery\n",
    "df_merged = df_merged[df_merged['outlier']==1].reset_index(drop=True)\n"
   ]
  },
  {
   "cell_type": "code",
   "execution_count": null,
   "metadata": {},
   "outputs": [],
   "source": [
    "# udział klas\n",
    "df_merged.y_cat.value_counts()/len(df_merged)"
   ]
  },
  {
   "cell_type": "code",
   "execution_count": null,
   "metadata": {},
   "outputs": [],
   "source": [
    "# podzial na train / test / valid\n",
    "train = df_merged[df_merged['departure_date']<date_train]\n",
    "test = df_merged[(df_merged['departure_date']>=date_train) & (df_merged['departure_date']<=date_test)]\n",
    "valid = df_merged[df_merged['departure_date']>date_test]\n",
    "print(train.shape)\n",
    "print(test.shape)\n",
    "print(valid.shape)"
   ]
  },
  {
   "cell_type": "code",
   "execution_count": null,
   "metadata": {},
   "outputs": [],
   "source": [
    "# podzial na x/y\n",
    "train_x = train[x_names]\n",
    "train_y = train['y_cat']\n",
    "test_x  =test[x_names]\n",
    "test_y = test['y_cat']\n",
    "valid_x = valid[x_names]\n",
    "valid_y = valid['y_cat']"
   ]
  },
  {
   "cell_type": "code",
   "execution_count": null,
   "metadata": {},
   "outputs": [],
   "source": [
    "# pobranie funkcji i bibliotek\n",
    "import optuna \n",
    "from sklearn.ensemble import HistGradientBoostingClassifier\n",
    "from sklearn.metrics import roc_auc_score, classification_report"
   ]
  },
  {
   "cell_type": "code",
   "execution_count": null,
   "metadata": {},
   "outputs": [],
   "source": [
    "# Funkcja optymalizacyjna\n",
    "def objective(trial):\n",
    "    params = {'max_iter': trial.suggest_int('max_iter',200,2000),\n",
    "              'max_depth': trial.suggest_int('max_depth',5,100),\n",
    "              'learning_rate': trial.suggest_float('learning_rate',0.01,0.9),\n",
    "              'min_samples_leaf': trial.suggest_int('min_samples_leaf',5,500)}\n",
    "    model = HistGradientBoostingClassifier(**params).fit(train_x,train_y)\n",
    "    preds = model.predict_proba(test_x)[:,1]\n",
    "    return roc_auc_score(test_y, preds)"
   ]
  },
  {
   "cell_type": "code",
   "execution_count": null,
   "metadata": {},
   "outputs": [],
   "source": [
    "# study\n",
    "study = optuna.create_study(direction='maximize')\n"
   ]
  },
  {
   "cell_type": "code",
   "execution_count": null,
   "metadata": {},
   "outputs": [],
   "source": [
    "# optymalizacja\n",
    "study.optimize(objective, n_trials=15, n_jobs=-1)\n"
   ]
  },
  {
   "cell_type": "code",
   "execution_count": null,
   "metadata": {},
   "outputs": [],
   "source": [
    "# najlepsze parametry\n",
    "best_params= study.best_params"
   ]
  },
  {
   "cell_type": "code",
   "execution_count": null,
   "metadata": {},
   "outputs": [],
   "source": [
    "# final model \n",
    "final_model = HistGradientBoostingClassifier(**best_params).fit(train_x,train_y)"
   ]
  },
  {
   "cell_type": "code",
   "execution_count": null,
   "metadata": {},
   "outputs": [],
   "source": [
    "from sklearn.preprocessing  import TargetEncoder"
   ]
  },
  {
   "cell_type": "code",
   "execution_count": null,
   "metadata": {},
   "outputs": [],
   "source": [
    "te = TargetEncoder().fit(train[['departure_name']],train_y)"
   ]
  },
  {
   "cell_type": "code",
   "execution_count": null,
   "metadata": {},
   "outputs": [],
   "source": [
    "train['departure_name_encoded_te'] = te.transform(train[['departure_name']])\n",
    "test['departure_name_encoded_te'] = te.transform(test[['departure_name']])\n",
    "valid['departure_name_encoded_te'] = te.transform(valid[['departure_name']])"
   ]
  },
  {
   "cell_type": "code",
   "execution_count": null,
   "metadata": {},
   "outputs": [],
   "source": [
    "x_names_2 = list(x_names.copy())"
   ]
  },
  {
   "cell_type": "code",
   "execution_count": null,
   "metadata": {},
   "outputs": [],
   "source": [
    "x_names_2.append('departure_name_encoded_te')\n"
   ]
  },
  {
   "cell_type": "code",
   "execution_count": null,
   "metadata": {},
   "outputs": [],
   "source": [
    "x_names_2"
   ]
  },
  {
   "cell_type": "code",
   "execution_count": null,
   "metadata": {},
   "outputs": [],
   "source": [
    "x_names_2 = x_names_2[1:]\n",
    "x_names_2"
   ]
  },
  {
   "cell_type": "code",
   "execution_count": null,
   "metadata": {},
   "outputs": [],
   "source": [
    "# podzial na x/y\n",
    "train_x = train[x_names_2]\n",
    "test_x  =test[x_names_2]\n",
    "valid_x = valid[x_names_2]\n"
   ]
  },
  {
   "cell_type": "code",
   "execution_count": null,
   "metadata": {},
   "outputs": [],
   "source": [
    "final_model_te = HistGradientBoostingClassifier(**best_params).fit(train_x,train_y)"
   ]
  },
  {
   "cell_type": "code",
   "execution_count": null,
   "metadata": {},
   "outputs": [],
   "source": [
    "# podzial na x/y\n",
    "train_x = train[potential_x_names]\n",
    "test_x  =test[potential_x_names]\n",
    "valid_x = valid[potential_x_names]\n"
   ]
  },
  {
   "cell_type": "code",
   "execution_count": null,
   "metadata": {},
   "outputs": [],
   "source": [
    "final_model_all_f = HistGradientBoostingClassifier(**best_params).fit(train_x,train_y)"
   ]
  },
  {
   "cell_type": "code",
   "execution_count": null,
   "metadata": {},
   "outputs": [],
   "source": [
    "# predykcje\n",
    "test_pred_1 = final_model.predict_proba(test[final_model.feature_names_in_])[:,1]\n",
    "test_pred_te = final_model_te.predict_proba(test[final_model_te.feature_names_in_])[:,1]\n",
    "test_pred_all_f  =final_model_all_f.predict_proba(test[final_model_all_f.feature_names_in_])[:,1]"
   ]
  },
  {
   "cell_type": "code",
   "execution_count": null,
   "metadata": {},
   "outputs": [],
   "source": [
    "final_model_all_f.feature_names_in_"
   ]
  },
  {
   "cell_type": "code",
   "execution_count": null,
   "metadata": {},
   "outputs": [],
   "source": [
    "# AUC\n",
    "print(roc_auc_score(test_y,test_pred_1))\n",
    "print(roc_auc_score(test_y,test_pred_te))\n",
    "print(roc_auc_score(test_y,test_pred_all_f))"
   ]
  },
  {
   "cell_type": "code",
   "execution_count": null,
   "metadata": {},
   "outputs": [],
   "source": [
    "valid_pred_proba  =final_model.predict_proba(valid[final_model.feature_names_in_])[:,1]"
   ]
  },
  {
   "cell_type": "code",
   "execution_count": null,
   "metadata": {},
   "outputs": [],
   "source": [
    "roc_auc_score(valid_y,valid_pred_proba)"
   ]
  },
  {
   "cell_type": "code",
   "execution_count": null,
   "metadata": {},
   "outputs": [],
   "source": [
    "valid_pred  =final_model.predict(valid[final_model.feature_names_in_])"
   ]
  },
  {
   "cell_type": "code",
   "execution_count": null,
   "metadata": {},
   "outputs": [],
   "source": [
    "# evaluation - classification report\n",
    "print(classification_report(valid_y,valid_pred))"
   ]
  },
  {
   "cell_type": "code",
   "execution_count": null,
   "metadata": {},
   "outputs": [],
   "source": [
    "import numpy as np"
   ]
  },
  {
   "cell_type": "code",
   "execution_count": null,
   "metadata": {},
   "outputs": [],
   "source": [
    "accuracy = []\n",
    "for i in np.arange(0,1,0.01):\n",
    "    valid_pred_proba_i = final_model.predict_proba(valid[final_model.feature_names_in_])[:,1]\n",
    "    valid_pred_i = (valid_pred_proba_i > i).astype(int)\n",
    "    acc_i = sum((valid_y == valid_pred_i).astype(int))\n",
    "    accuracy.append(acc_i)"
   ]
  },
  {
   "cell_type": "code",
   "execution_count": null,
   "metadata": {},
   "outputs": [],
   "source": [
    "cut_offs = np.arange(0,1,0.01)\n",
    "cut_off = cut_offs[accuracy.index(max(accuracy))]\n",
    "cut_off"
   ]
  },
  {
   "cell_type": "code",
   "execution_count": null,
   "metadata": {},
   "outputs": [],
   "source": [
    "valid_pred_new = (final_model.predict_proba(valid[final_model.feature_names_in_])[:,1] >cut_off).astype(int)"
   ]
  },
  {
   "cell_type": "code",
   "execution_count": null,
   "metadata": {},
   "outputs": [],
   "source": [
    "print(classification_report(valid_y,valid_pred_new))"
   ]
  },
  {
   "cell_type": "code",
   "execution_count": null,
   "metadata": {},
   "outputs": [],
   "source": [
    "df_merged['pred_proba'] = final_model.predict_proba(df_merged[final_model.feature_names_in_])[:,1]"
   ]
  },
  {
   "cell_type": "code",
   "execution_count": null,
   "metadata": {},
   "outputs": [],
   "source": [
    "# wyniki wg stacji\n",
    "results = df_merged.loc[df_merged['departure_date']>='2020-01-01',['y_cat','pred_proba','departure_name']].groupby('departure_name').apply(\n",
    "    lambda x: roc_auc_score(x['y_cat'], x['pred_proba']) \n",
    ").reset_index()"
   ]
  },
  {
   "cell_type": "code",
   "execution_count": null,
   "metadata": {},
   "outputs": [],
   "source": [
    "results.head()"
   ]
  },
  {
   "cell_type": "code",
   "execution_count": null,
   "metadata": {},
   "outputs": [],
   "source": [
    "results.sort_values(by=0).tail(10)"
   ]
  },
  {
   "cell_type": "code",
   "execution_count": null,
   "metadata": {},
   "outputs": [],
   "source": [
    "# zapis modelu\n",
    "import joblib"
   ]
  },
  {
   "cell_type": "code",
   "execution_count": null,
   "metadata": {},
   "outputs": [],
   "source": [
    "joblib.dump(final_model, 'models/classification_model.joblib')"
   ]
  },
  {
   "cell_type": "code",
   "execution_count": null,
   "metadata": {},
   "outputs": [],
   "source": [
    "joblib.dump(oe, 'models/ordinal_encoder_for_classification.joblib')"
   ]
  }
 ],
 "metadata": {
  "kernelspec": {
   "display_name": "Python 3",
   "language": "python",
   "name": "python3"
  },
  "language_info": {
   "codemirror_mode": {
    "name": "ipython",
    "version": 3
   },
   "file_extension": ".py",
   "mimetype": "text/x-python",
   "name": "python",
   "nbconvert_exporter": "python",
   "pygments_lexer": "ipython3",
   "version": "3.12.5"
  }
 },
 "nbformat": 4,
 "nbformat_minor": 2
}
